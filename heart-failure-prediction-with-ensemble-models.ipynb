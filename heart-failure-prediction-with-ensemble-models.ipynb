{
 "cells": [
  {
   "cell_type": "code",
   "execution_count": 2,
   "metadata": {},
   "outputs": [
    {
     "name": "stdout",
     "output_type": "stream",
     "text": [
      "Collecting scikit-learn\n",
      "  Downloading https://files.pythonhosted.org/packages/9d/20/0ffe8665a44bce7616bd33d4368a198fecad3b226bcafa38c63ef0f6286f/scikit_learn-1.0.2-cp37-cp37m-win_amd64.whl (7.1MB)\n",
      "Requirement already satisfied, skipping upgrade: joblib>=0.11 in c:\\users\\muzzamil\\anaconda\\lib\\site-packages (from scikit-learn) (1.1.0)\n",
      "Requirement already satisfied, skipping upgrade: numpy>=1.14.6 in c:\\users\\muzzamil\\anaconda\\lib\\site-packages (from scikit-learn) (1.16.2)\n",
      "Requirement already satisfied, skipping upgrade: scipy>=1.1.0 in c:\\users\\muzzamil\\anaconda\\lib\\site-packages (from scikit-learn) (1.2.1)\n",
      "Collecting threadpoolctl>=2.0.0 (from scikit-learn)\n",
      "  Downloading https://files.pythonhosted.org/packages/ff/fe/8aaca2a0db7fd80f0b2cf8a16a034d3eea8102d58ff9331d2aaf1f06766a/threadpoolctl-3.0.0-py3-none-any.whl\n",
      "Installing collected packages: threadpoolctl, scikit-learn\n",
      "  Found existing installation: scikit-learn 0.20.3\n",
      "    Uninstalling scikit-learn-0.20.3:\n",
      "      Successfully uninstalled scikit-learn-0.20.3\n",
      "Note: you may need to restart the kernel to use updated packages.\n"
     ]
    },
    {
     "name": "stderr",
     "output_type": "stream",
     "text": [
      "Could not install packages due to an EnvironmentError: [WinError 5] Access is denied: 'c:\\\\users\\\\muzzamil\\\\anaconda\\\\lib\\\\site-packages\\\\~klearn\\\\ensemble\\\\_gradient_boosting.cp37-win_amd64.pyd'\n",
      "Consider using the `--user` option or check the permissions.\n",
      "\n"
     ]
    }
   ],
   "source": [
    "pip install --upgrade scikit-learn"
   ]
  },
  {
   "cell_type": "code",
   "execution_count": 1,
   "metadata": {
    "_cell_guid": "b1076dfc-b9ad-4769-8c92-a6c4dae69d19",
    "_uuid": "8f2839f25d086af736a60e9eeb907d3b93b6e0e5",
    "execution": {
     "iopub.execute_input": "2021-12-18T11:09:04.934817Z",
     "iopub.status.busy": "2021-12-18T11:09:04.933522Z",
     "iopub.status.idle": "2021-12-18T11:09:04.952808Z",
     "shell.execute_reply": "2021-12-18T11:09:04.953747Z",
     "shell.execute_reply.started": "2021-12-18T10:53:26.188008Z"
    },
    "papermill": {
     "duration": 0.077111,
     "end_time": "2021-12-18T11:09:04.954201",
     "exception": false,
     "start_time": "2021-12-18T11:09:04.877090",
     "status": "completed"
    },
    "tags": []
   },
   "outputs": [
    {
     "name": "stdout",
     "output_type": "stream",
     "text": [
      "/kaggle/input/heart-failure-prediction/heart.csv\n"
     ]
    }
   ],
   "source": [
    "# This Python 3 environment comes with many helpful analytics libraries installed\n",
    "# It is defined by the kaggle/python Docker image: https://github.com/kaggle/docker-python\n",
    "# For example, here's several helpful packages to load\n",
    "\n",
    "import numpy as np # linear algebra\n",
    "import pandas as pd # data processing, CSV file I/O (e.g. pd.read_csv)\n",
    "\n",
    "# Input data files are available in the read-only \"../input/\" directory\n",
    "# For example, running this (by clicking run or pressing Shift+Enter) will list all files under the input directory\n",
    "\n",
    "import os\n",
    "for dirname, _, filenames in os.walk('/kaggle/input'):\n",
    "    for filename in filenames:\n",
    "        print(os.path.join(dirname, filename))\n",
    "\n",
    "# You can write up to 20GB to the current directory (/kaggle/working/) that gets preserved as output when you create a version using \"Save & Run All\" \n",
    "# You can also write temporary files to /kaggle/temp/, but they won't be saved outside of the current session"
   ]
  },
  {
   "cell_type": "markdown",
   "metadata": {
    "papermill": {
     "duration": 0.051039,
     "end_time": "2021-12-18T11:09:05.055928",
     "exception": false,
     "start_time": "2021-12-18T11:09:05.004889",
     "status": "completed"
    },
    "tags": []
   },
   "source": [
    "# Import libraries"
   ]
  },
  {
   "cell_type": "code",
   "execution_count": 1,
   "metadata": {
    "execution": {
     "iopub.execute_input": "2021-12-18T11:09:05.160843Z",
     "iopub.status.busy": "2021-12-18T11:09:05.160148Z",
     "iopub.status.idle": "2021-12-18T11:09:06.640960Z",
     "shell.execute_reply": "2021-12-18T11:09:06.640304Z",
     "shell.execute_reply.started": "2021-12-18T10:53:26.225221Z"
    },
    "papermill": {
     "duration": 1.533062,
     "end_time": "2021-12-18T11:09:06.641114",
     "exception": false,
     "start_time": "2021-12-18T11:09:05.108052",
     "status": "completed"
    },
    "tags": []
   },
   "outputs": [],
   "source": [
    "import numpy as np \n",
    "import pandas as pd\n",
    "import seaborn as sns\n",
    "import matplotlib.pyplot as plt\n",
    "from sklearn.preprocessing import LabelEncoder\n",
    "from sklearn.model_selection import train_test_split\n",
    "from sklearn.model_selection import KFold\n",
    "\n",
    "from sklearn.preprocessing import StandardScaler\n",
    "from sklearn.preprocessing import MinMaxScaler\n",
    "from sklearn.preprocessing import RobustScaler\n",
    "\n",
    "from sklearn.model_selection import cross_val_score, cross_val_predict\n",
    "from sklearn.metrics import confusion_matrix\n",
    "from sklearn.metrics import accuracy_score, f1_score,confusion_matrix, recall_score, precision_score, classification_report\n",
    "from sklearn.metrics import average_precision_score\n",
    "\n",
    "from sklearn.model_selection import GridSearchCV, RandomizedSearchCV\n",
    "from mlxtend.feature_selection import SequentialFeatureSelector as SFS\n",
    "\n",
    "from sklearn.linear_model import LogisticRegression\n",
    "from sklearn.tree import DecisionTreeClassifier\n",
    "from sklearn.neural_network import MLPClassifier\n",
    "from sklearn.neighbors import KNeighborsClassifier\n",
    "from sklearn.svm import SVC\n",
    "from sklearn.ensemble import ExtraTreesClassifier, GradientBoostingClassifier, StackingClassifier, RandomForestClassifier\n",
    "\n",
    "import warnings\n",
    "warnings.filterwarnings(\"ignore\")"
   ]
  },
  {
   "cell_type": "markdown",
   "metadata": {
    "papermill": {
     "duration": 0.050211,
     "end_time": "2021-12-18T11:09:06.740541",
     "exception": false,
     "start_time": "2021-12-18T11:09:06.690330",
     "status": "completed"
    },
    "tags": []
   },
   "source": [
    "# Define functions"
   ]
  },
  {
   "cell_type": "code",
   "execution_count": 3,
   "metadata": {
    "execution": {
     "iopub.execute_input": "2021-12-18T11:09:06.845004Z",
     "iopub.status.busy": "2021-12-18T11:09:06.843731Z",
     "iopub.status.idle": "2021-12-18T11:09:06.866420Z",
     "shell.execute_reply": "2021-12-18T11:09:06.866936Z",
     "shell.execute_reply.started": "2021-12-18T10:53:27.686125Z"
    },
    "papermill": {
     "duration": 0.077276,
     "end_time": "2021-12-18T11:09:06.867132",
     "exception": false,
     "start_time": "2021-12-18T11:09:06.789856",
     "status": "completed"
    },
    "tags": []
   },
   "outputs": [],
   "source": [
    "def outlier_detect(df, col):\n",
    "    q1_col = Q1[col]\n",
    "    iqr_col = IQR[col]\n",
    "    q3_col = Q3[col]\n",
    "    return df[((df[col] < (q1_col - 1.5 * iqr_col)) |(df[col] > (q3_col + 1.5 * iqr_col)))]\n",
    "\n",
    "# -----------------------------------------------------------------------------------------------\n",
    "def outlier_detect_normal(df, col):\n",
    "    m = df[col].mean()\n",
    "    s = df[col].std()\n",
    "    return df[((df[col]-m)/s).abs()>3]\n",
    "\n",
    "# -----------------------------------------------------------------------------------------------\n",
    "def lower_outlier(df, col):\n",
    "    q1_col = Q1[col]\n",
    "    iqr_col = IQR[col]\n",
    "    q3_col = Q3[col]\n",
    "    lower = df[(df[col] < (q1_col - 1.5 * iqr_col))]\n",
    "    return lower\n",
    "\n",
    "# -----------------------------------------------------------------------------------------------\n",
    "def upper_outlier(df, col):\n",
    "    q1_col = Q1[col]\n",
    "    iqr_col = IQR[col]\n",
    "    q3_col = Q3[col]\n",
    "    upper = df[(df[col] > (q3_col + 1.5 * iqr_col))]\n",
    "    return upper\n",
    "\n",
    "# -----------------------------------------------------------------------------------------------\n",
    "def replace_upper(df, col):\n",
    "    q1_col = Q1[col]\n",
    "    iqr_col = IQR[col]\n",
    "    q3_col = Q3[col]\n",
    "    tmp = 9999999\n",
    "    upper = q3_col + 1.5 * iqr_col\n",
    "    df[col] = df[col].where(lambda x: (x < (upper)), tmp)\n",
    "    df[col] = df[col].replace(tmp, upper)\n",
    "    print('outlier replace with upper bound - {}' .format(col)) \n",
    "    \n",
    "# -----------------------------------------------------------------------------------------------\n",
    "def replace_lower(df, col):\n",
    "    q1_col = Q1[col]\n",
    "    iqr_col = IQR[col]\n",
    "    q3_col = Q3[col]\n",
    "    tmp = 1111111\n",
    "    lower = q1_col - 1.5 * iqr_col\n",
    "    df[col] = df[col].where(lambda x: (x > (lower)), tmp)\n",
    "    df[col] = df[col].replace(tmp, lower)\n",
    "    print('outlier replace with lower bound - {}' .format(col)) \n",
    "\n",
    "# -----------------------------------------------------------------------------------------------\n",
    "def preprocess(df, col):\n",
    "    print(\"************************************************ {} ************************************************\\n\".format(col))\n",
    "    print(\"lower outlier: {} ****** upper outlier: {}\\n\".format(lower_outlier(df,col).shape[0], upper_outlier(df,col).shape[0]))\n",
    "    plt.figure(figsize=(10,8))\n",
    "    plt.subplot(2,1,1)\n",
    "    df[col].plot(kind='box', subplots=True, sharex=False, vert=False)\n",
    "    plt.subplot(2,1,2)\n",
    "    df[col].plot(kind='density', subplots=True, sharex=False)\n",
    "    plt.show()\n",
    "    \n",
    "\n",
    "# -----------------------------------------------------------------------------------------------\n",
    "def Cls_model_RndSrch_Tune(model, Data, X, y, params):\n",
    "    \n",
    "    clf = RandomizedSearchCV(model, params, scoring ='accuracy', cv = 5, n_jobs=-1)\n",
    "    clf.fit(X, y)\n",
    "    \n",
    "    print(\"best score is :\" , clf.best_score_)\n",
    "    print(\"best estimator is :\" , clf.best_estimator_)\n",
    "    print(\"best Params is :\" , clf.best_params_)\n",
    "    \n",
    "    return (clf.best_score_)\n",
    "\n",
    "# -----------------------------------------------------------------------------------------------\n",
    "def Cls_model_GrdSrch_Tune(model, Data, X, y, params):\n",
    "    \n",
    "    clf = GridSearchCV(model, params, scoring ='accuracy', cv = 5, n_jobs=-1)\n",
    "    clf.fit(X, y)\n",
    "    \n",
    "    print(\"best score is :\" , clf.best_score_)\n",
    "    print(\"best estimator is :\" , clf.best_estimator_)\n",
    "    print(\"best Params is :\" , clf.best_params_)\n",
    "    \n",
    "    return (clf.best_score_)\n"
   ]
  },
  {
   "cell_type": "markdown",
   "metadata": {
    "papermill": {
     "duration": 0.049765,
     "end_time": "2021-12-18T11:09:06.967565",
     "exception": false,
     "start_time": "2021-12-18T11:09:06.917800",
     "status": "completed"
    },
    "tags": []
   },
   "source": [
    "# Data Understanding"
   ]
  },
  {
   "cell_type": "code",
   "execution_count": 4,
   "metadata": {
    "execution": {
     "iopub.execute_input": "2021-12-18T11:09:07.073458Z",
     "iopub.status.busy": "2021-12-18T11:09:07.072534Z",
     "iopub.status.idle": "2021-12-18T11:09:07.109726Z",
     "shell.execute_reply": "2021-12-18T11:09:07.110275Z",
     "shell.execute_reply.started": "2021-12-18T10:53:27.710387Z"
    },
    "papermill": {
     "duration": 0.092905,
     "end_time": "2021-12-18T11:09:07.110459",
     "exception": false,
     "start_time": "2021-12-18T11:09:07.017554",
     "status": "completed"
    },
    "tags": []
   },
   "outputs": [
    {
     "data": {
      "text/html": [
       "<div>\n",
       "<style scoped>\n",
       "    .dataframe tbody tr th:only-of-type {\n",
       "        vertical-align: middle;\n",
       "    }\n",
       "\n",
       "    .dataframe tbody tr th {\n",
       "        vertical-align: top;\n",
       "    }\n",
       "\n",
       "    .dataframe thead th {\n",
       "        text-align: right;\n",
       "    }\n",
       "</style>\n",
       "<table border=\"1\" class=\"dataframe\">\n",
       "  <thead>\n",
       "    <tr style=\"text-align: right;\">\n",
       "      <th></th>\n",
       "      <th>Age</th>\n",
       "      <th>Sex</th>\n",
       "      <th>ChestPainType</th>\n",
       "      <th>RestingBP</th>\n",
       "      <th>Cholesterol</th>\n",
       "      <th>FastingBS</th>\n",
       "      <th>RestingECG</th>\n",
       "      <th>MaxHR</th>\n",
       "      <th>ExerciseAngina</th>\n",
       "      <th>Oldpeak</th>\n",
       "      <th>ST_Slope</th>\n",
       "      <th>HeartDisease</th>\n",
       "    </tr>\n",
       "  </thead>\n",
       "  <tbody>\n",
       "    <tr>\n",
       "      <th>0</th>\n",
       "      <td>40</td>\n",
       "      <td>M</td>\n",
       "      <td>ATA</td>\n",
       "      <td>140</td>\n",
       "      <td>289</td>\n",
       "      <td>0</td>\n",
       "      <td>Normal</td>\n",
       "      <td>172</td>\n",
       "      <td>N</td>\n",
       "      <td>0.0</td>\n",
       "      <td>Up</td>\n",
       "      <td>0</td>\n",
       "    </tr>\n",
       "    <tr>\n",
       "      <th>1</th>\n",
       "      <td>49</td>\n",
       "      <td>F</td>\n",
       "      <td>NAP</td>\n",
       "      <td>160</td>\n",
       "      <td>180</td>\n",
       "      <td>0</td>\n",
       "      <td>Normal</td>\n",
       "      <td>156</td>\n",
       "      <td>N</td>\n",
       "      <td>1.0</td>\n",
       "      <td>Flat</td>\n",
       "      <td>1</td>\n",
       "    </tr>\n",
       "    <tr>\n",
       "      <th>2</th>\n",
       "      <td>37</td>\n",
       "      <td>M</td>\n",
       "      <td>ATA</td>\n",
       "      <td>130</td>\n",
       "      <td>283</td>\n",
       "      <td>0</td>\n",
       "      <td>ST</td>\n",
       "      <td>98</td>\n",
       "      <td>N</td>\n",
       "      <td>0.0</td>\n",
       "      <td>Up</td>\n",
       "      <td>0</td>\n",
       "    </tr>\n",
       "    <tr>\n",
       "      <th>3</th>\n",
       "      <td>48</td>\n",
       "      <td>F</td>\n",
       "      <td>ASY</td>\n",
       "      <td>138</td>\n",
       "      <td>214</td>\n",
       "      <td>0</td>\n",
       "      <td>Normal</td>\n",
       "      <td>108</td>\n",
       "      <td>Y</td>\n",
       "      <td>1.5</td>\n",
       "      <td>Flat</td>\n",
       "      <td>1</td>\n",
       "    </tr>\n",
       "    <tr>\n",
       "      <th>4</th>\n",
       "      <td>54</td>\n",
       "      <td>M</td>\n",
       "      <td>NAP</td>\n",
       "      <td>150</td>\n",
       "      <td>195</td>\n",
       "      <td>0</td>\n",
       "      <td>Normal</td>\n",
       "      <td>122</td>\n",
       "      <td>N</td>\n",
       "      <td>0.0</td>\n",
       "      <td>Up</td>\n",
       "      <td>0</td>\n",
       "    </tr>\n",
       "  </tbody>\n",
       "</table>\n",
       "</div>"
      ],
      "text/plain": [
       "   Age Sex ChestPainType  RestingBP  Cholesterol  FastingBS RestingECG  MaxHR  \\\n",
       "0   40   M           ATA        140          289          0     Normal    172   \n",
       "1   49   F           NAP        160          180          0     Normal    156   \n",
       "2   37   M           ATA        130          283          0         ST     98   \n",
       "3   48   F           ASY        138          214          0     Normal    108   \n",
       "4   54   M           NAP        150          195          0     Normal    122   \n",
       "\n",
       "  ExerciseAngina  Oldpeak ST_Slope  HeartDisease  \n",
       "0              N      0.0       Up             0  \n",
       "1              N      1.0     Flat             1  \n",
       "2              N      0.0       Up             0  \n",
       "3              Y      1.5     Flat             1  \n",
       "4              N      0.0       Up             0  "
      ]
     },
     "execution_count": 4,
     "metadata": {},
     "output_type": "execute_result"
    }
   ],
   "source": [
    "df = pd.read_csv(\"/kaggle/input/heart-failure-prediction/heart.csv\")\n",
    "df.head()"
   ]
  },
  {
   "cell_type": "code",
   "execution_count": 5,
   "metadata": {
    "execution": {
     "iopub.execute_input": "2021-12-18T11:09:07.214081Z",
     "iopub.status.busy": "2021-12-18T11:09:07.213361Z",
     "iopub.status.idle": "2021-12-18T11:09:07.219313Z",
     "shell.execute_reply": "2021-12-18T11:09:07.219856Z",
     "shell.execute_reply.started": "2021-12-18T10:53:27.760061Z"
    },
    "papermill": {
     "duration": 0.059682,
     "end_time": "2021-12-18T11:09:07.220064",
     "exception": false,
     "start_time": "2021-12-18T11:09:07.160382",
     "status": "completed"
    },
    "tags": []
   },
   "outputs": [
    {
     "data": {
      "text/plain": [
       "(918, 12)"
      ]
     },
     "execution_count": 5,
     "metadata": {},
     "output_type": "execute_result"
    }
   ],
   "source": [
    "df.shape"
   ]
  },
  {
   "cell_type": "code",
   "execution_count": 6,
   "metadata": {
    "execution": {
     "iopub.execute_input": "2021-12-18T11:09:07.325571Z",
     "iopub.status.busy": "2021-12-18T11:09:07.324567Z",
     "iopub.status.idle": "2021-12-18T11:09:07.349797Z",
     "shell.execute_reply": "2021-12-18T11:09:07.349153Z",
     "shell.execute_reply.started": "2021-12-18T10:53:27.767901Z"
    },
    "papermill": {
     "duration": 0.079416,
     "end_time": "2021-12-18T11:09:07.349967",
     "exception": false,
     "start_time": "2021-12-18T11:09:07.270551",
     "status": "completed"
    },
    "tags": []
   },
   "outputs": [
    {
     "name": "stdout",
     "output_type": "stream",
     "text": [
      "<class 'pandas.core.frame.DataFrame'>\n",
      "RangeIndex: 918 entries, 0 to 917\n",
      "Data columns (total 12 columns):\n",
      " #   Column          Non-Null Count  Dtype  \n",
      "---  ------          --------------  -----  \n",
      " 0   Age             918 non-null    int64  \n",
      " 1   Sex             918 non-null    object \n",
      " 2   ChestPainType   918 non-null    object \n",
      " 3   RestingBP       918 non-null    int64  \n",
      " 4   Cholesterol     918 non-null    int64  \n",
      " 5   FastingBS       918 non-null    int64  \n",
      " 6   RestingECG      918 non-null    object \n",
      " 7   MaxHR           918 non-null    int64  \n",
      " 8   ExerciseAngina  918 non-null    object \n",
      " 9   Oldpeak         918 non-null    float64\n",
      " 10  ST_Slope        918 non-null    object \n",
      " 11  HeartDisease    918 non-null    int64  \n",
      "dtypes: float64(1), int64(6), object(5)\n",
      "memory usage: 86.2+ KB\n"
     ]
    }
   ],
   "source": [
    "df.info()"
   ]
  },
  {
   "cell_type": "code",
   "execution_count": 7,
   "metadata": {
    "execution": {
     "iopub.execute_input": "2021-12-18T11:09:07.456077Z",
     "iopub.status.busy": "2021-12-18T11:09:07.455373Z",
     "iopub.status.idle": "2021-12-18T11:09:07.493523Z",
     "shell.execute_reply": "2021-12-18T11:09:07.492705Z",
     "shell.execute_reply.started": "2021-12-18T10:53:27.798280Z"
    },
    "papermill": {
     "duration": 0.093158,
     "end_time": "2021-12-18T11:09:07.493705",
     "exception": false,
     "start_time": "2021-12-18T11:09:07.400547",
     "status": "completed"
    },
    "tags": []
   },
   "outputs": [
    {
     "data": {
      "text/html": [
       "<div>\n",
       "<style scoped>\n",
       "    .dataframe tbody tr th:only-of-type {\n",
       "        vertical-align: middle;\n",
       "    }\n",
       "\n",
       "    .dataframe tbody tr th {\n",
       "        vertical-align: top;\n",
       "    }\n",
       "\n",
       "    .dataframe thead th {\n",
       "        text-align: right;\n",
       "    }\n",
       "</style>\n",
       "<table border=\"1\" class=\"dataframe\">\n",
       "  <thead>\n",
       "    <tr style=\"text-align: right;\">\n",
       "      <th></th>\n",
       "      <th>count</th>\n",
       "      <th>mean</th>\n",
       "      <th>std</th>\n",
       "      <th>min</th>\n",
       "      <th>25%</th>\n",
       "      <th>50%</th>\n",
       "      <th>75%</th>\n",
       "      <th>max</th>\n",
       "    </tr>\n",
       "  </thead>\n",
       "  <tbody>\n",
       "    <tr>\n",
       "      <th>Age</th>\n",
       "      <td>918.0</td>\n",
       "      <td>53.510893</td>\n",
       "      <td>9.432617</td>\n",
       "      <td>28.0</td>\n",
       "      <td>47.00</td>\n",
       "      <td>54.0</td>\n",
       "      <td>60.0</td>\n",
       "      <td>77.0</td>\n",
       "    </tr>\n",
       "    <tr>\n",
       "      <th>RestingBP</th>\n",
       "      <td>918.0</td>\n",
       "      <td>132.396514</td>\n",
       "      <td>18.514154</td>\n",
       "      <td>0.0</td>\n",
       "      <td>120.00</td>\n",
       "      <td>130.0</td>\n",
       "      <td>140.0</td>\n",
       "      <td>200.0</td>\n",
       "    </tr>\n",
       "    <tr>\n",
       "      <th>Cholesterol</th>\n",
       "      <td>918.0</td>\n",
       "      <td>198.799564</td>\n",
       "      <td>109.384145</td>\n",
       "      <td>0.0</td>\n",
       "      <td>173.25</td>\n",
       "      <td>223.0</td>\n",
       "      <td>267.0</td>\n",
       "      <td>603.0</td>\n",
       "    </tr>\n",
       "    <tr>\n",
       "      <th>FastingBS</th>\n",
       "      <td>918.0</td>\n",
       "      <td>0.233115</td>\n",
       "      <td>0.423046</td>\n",
       "      <td>0.0</td>\n",
       "      <td>0.00</td>\n",
       "      <td>0.0</td>\n",
       "      <td>0.0</td>\n",
       "      <td>1.0</td>\n",
       "    </tr>\n",
       "    <tr>\n",
       "      <th>MaxHR</th>\n",
       "      <td>918.0</td>\n",
       "      <td>136.809368</td>\n",
       "      <td>25.460334</td>\n",
       "      <td>60.0</td>\n",
       "      <td>120.00</td>\n",
       "      <td>138.0</td>\n",
       "      <td>156.0</td>\n",
       "      <td>202.0</td>\n",
       "    </tr>\n",
       "    <tr>\n",
       "      <th>Oldpeak</th>\n",
       "      <td>918.0</td>\n",
       "      <td>0.887364</td>\n",
       "      <td>1.066570</td>\n",
       "      <td>-2.6</td>\n",
       "      <td>0.00</td>\n",
       "      <td>0.6</td>\n",
       "      <td>1.5</td>\n",
       "      <td>6.2</td>\n",
       "    </tr>\n",
       "    <tr>\n",
       "      <th>HeartDisease</th>\n",
       "      <td>918.0</td>\n",
       "      <td>0.553377</td>\n",
       "      <td>0.497414</td>\n",
       "      <td>0.0</td>\n",
       "      <td>0.00</td>\n",
       "      <td>1.0</td>\n",
       "      <td>1.0</td>\n",
       "      <td>1.0</td>\n",
       "    </tr>\n",
       "  </tbody>\n",
       "</table>\n",
       "</div>"
      ],
      "text/plain": [
       "              count        mean         std   min     25%    50%    75%    max\n",
       "Age           918.0   53.510893    9.432617  28.0   47.00   54.0   60.0   77.0\n",
       "RestingBP     918.0  132.396514   18.514154   0.0  120.00  130.0  140.0  200.0\n",
       "Cholesterol   918.0  198.799564  109.384145   0.0  173.25  223.0  267.0  603.0\n",
       "FastingBS     918.0    0.233115    0.423046   0.0    0.00    0.0    0.0    1.0\n",
       "MaxHR         918.0  136.809368   25.460334  60.0  120.00  138.0  156.0  202.0\n",
       "Oldpeak       918.0    0.887364    1.066570  -2.6    0.00    0.6    1.5    6.2\n",
       "HeartDisease  918.0    0.553377    0.497414   0.0    0.00    1.0    1.0    1.0"
      ]
     },
     "execution_count": 7,
     "metadata": {},
     "output_type": "execute_result"
    }
   ],
   "source": [
    "df.describe().T"
   ]
  },
  {
   "cell_type": "code",
   "execution_count": 8,
   "metadata": {
    "execution": {
     "iopub.execute_input": "2021-12-18T11:09:07.601416Z",
     "iopub.status.busy": "2021-12-18T11:09:07.600672Z",
     "iopub.status.idle": "2021-12-18T11:09:07.608976Z",
     "shell.execute_reply": "2021-12-18T11:09:07.609509Z",
     "shell.execute_reply.started": "2021-12-18T10:53:27.839236Z"
    },
    "papermill": {
     "duration": 0.063261,
     "end_time": "2021-12-18T11:09:07.609691",
     "exception": false,
     "start_time": "2021-12-18T11:09:07.546430",
     "status": "completed"
    },
    "tags": []
   },
   "outputs": [
    {
     "data": {
      "text/plain": [
       "Age               0\n",
       "Sex               0\n",
       "ChestPainType     0\n",
       "RestingBP         0\n",
       "Cholesterol       0\n",
       "FastingBS         0\n",
       "RestingECG        0\n",
       "MaxHR             0\n",
       "ExerciseAngina    0\n",
       "Oldpeak           0\n",
       "ST_Slope          0\n",
       "HeartDisease      0\n",
       "dtype: int64"
      ]
     },
     "execution_count": 8,
     "metadata": {},
     "output_type": "execute_result"
    }
   ],
   "source": [
    "df.isnull().sum()"
   ]
  },
  {
   "cell_type": "code",
   "execution_count": 9,
   "metadata": {
    "execution": {
     "iopub.execute_input": "2021-12-18T11:09:07.721557Z",
     "iopub.status.busy": "2021-12-18T11:09:07.720852Z",
     "iopub.status.idle": "2021-12-18T11:09:07.931088Z",
     "shell.execute_reply": "2021-12-18T11:09:07.931663Z",
     "shell.execute_reply.started": "2021-12-18T10:53:27.849371Z"
    },
    "papermill": {
     "duration": 0.266267,
     "end_time": "2021-12-18T11:09:07.931869",
     "exception": false,
     "start_time": "2021-12-18T11:09:07.665602",
     "status": "completed"
    },
    "tags": []
   },
   "outputs": [
    {
     "data": {
      "text/plain": [
       "1    508\n",
       "0    410\n",
       "Name: HeartDisease, dtype: int64"
      ]
     },
     "execution_count": 9,
     "metadata": {},
     "output_type": "execute_result"
    },
    {
     "data": {
      "image/png": "[encoded data removed]",
      "text/plain": [
       "<Figure size 432x288 with 1 Axes>"
      ]
     },
     "metadata": {
      "needs_background": "light"
     },
     "output_type": "display_data"
    }
   ],
   "source": [
    "sns.countplot(x = \"HeartDisease\", data = df)\n",
    "df.loc[:, 'HeartDisease'].value_counts()"
   ]
  },
  {
   "cell_type": "code",
   "execution_count": 10,
   "metadata": {
    "execution": {
     "iopub.execute_input": "2021-12-18T11:09:08.040557Z",
     "iopub.status.busy": "2021-12-18T11:09:08.039831Z",
     "iopub.status.idle": "2021-12-18T11:09:08.044446Z",
     "shell.execute_reply": "2021-12-18T11:09:08.045001Z",
     "shell.execute_reply.started": "2021-12-18T10:53:28.017262Z"
    },
    "papermill": {
     "duration": 0.060676,
     "end_time": "2021-12-18T11:09:08.045174",
     "exception": false,
     "start_time": "2021-12-18T11:09:07.984498",
     "status": "completed"
    },
    "tags": []
   },
   "outputs": [],
   "source": [
    "categorical_feature = df.dtypes==object\n",
    "final_categorical_feature = df.columns[categorical_feature].tolist()\n",
    "# -----------------------------------------------------------------------------\n",
    "final_numeric_feature = ['Age', 'RestingBP', 'Cholesterol', 'MaxHR', 'Oldpeak']"
   ]
  },
  {
   "cell_type": "code",
   "execution_count": 11,
   "metadata": {
    "execution": {
     "iopub.execute_input": "2021-12-18T11:09:08.153683Z",
     "iopub.status.busy": "2021-12-18T11:09:08.153020Z",
     "iopub.status.idle": "2021-12-18T11:09:09.089617Z",
     "shell.execute_reply": "2021-12-18T11:09:09.090147Z",
     "shell.execute_reply.started": "2021-12-18T10:53:28.028938Z"
    },
    "papermill": {
     "duration": 0.993011,
     "end_time": "2021-12-18T11:09:09.090343",
     "exception": false,
     "start_time": "2021-12-18T11:09:08.097332",
     "status": "completed"
    },
    "tags": []
   },
   "outputs": [
    {
     "data": {
      "image/png": "[encoded data removed]",
      "text/plain": [
       "<Figure size 1152x576 with 6 Axes>"
      ]
     },
     "metadata": {
      "needs_background": "light"
     },
     "output_type": "display_data"
    }
   ],
   "source": [
    "df[final_numeric_feature].plot(kind='density', subplots=True, layout=(2,3), sharex=False, figsize= (16,8))\n",
    "plt.show()"
   ]
  },
  {
   "cell_type": "code",
   "execution_count": 12,
   "metadata": {
    "execution": {
     "iopub.execute_input": "2021-12-18T11:09:09.232002Z",
     "iopub.status.busy": "2021-12-18T11:09:09.231302Z",
     "iopub.status.idle": "2021-12-18T11:09:10.154855Z",
     "shell.execute_reply": "2021-12-18T11:09:10.153853Z",
     "shell.execute_reply.started": "2021-12-18T10:53:28.941790Z"
    },
    "papermill": {
     "duration": 1.009732,
     "end_time": "2021-12-18T11:09:10.155029",
     "exception": false,
     "start_time": "2021-12-18T11:09:09.145297",
     "status": "completed"
    },
    "tags": []
   },
   "outputs": [
    {
     "data": {
      "image/png": "[encoded data removed]",
      "text/plain": [
       "<Figure size 432x288 with 1 Axes>"
      ]
     },
     "metadata": {
      "needs_background": "light"
     },
     "output_type": "display_data"
    },
    {
     "data": {
      "image/png": "[encoded data removed]",
      "text/plain": [
       "<Figure size 432x288 with 1 Axes>"
      ]
     },
     "metadata": {
      "needs_background": "light"
     },
     "output_type": "display_data"
    },
    {
     "data": {
      "image/png": "[encoded data removed]",
      "text/plain": [
       "<Figure size 432x288 with 1 Axes>"
      ]
     },
     "metadata": {
      "needs_background": "light"
     },
     "output_type": "display_data"
    },
    {
     "data": {
      "image/png": "[encoded data removed]",
      "text/plain": [
       "<Figure size 432x288 with 1 Axes>"
      ]
     },
     "metadata": {
      "needs_background": "light"
     },
     "output_type": "display_data"
    },
    {
     "data": {
      "image/png": "[encoded data removed]",
      "text/plain": [
       "<Figure size 432x288 with 1 Axes>"
      ]
     },
     "metadata": {
      "needs_background": "light"
     },
     "output_type": "display_data"
    }
   ],
   "source": [
    "for i in range(len(final_categorical_feature)):\n",
    "    df[final_categorical_feature[i]].value_counts().plot(kind='bar')\n",
    "    plt.xticks(rotation='vertical')\n",
    "    plt.ylabel(final_categorical_feature[i])\n",
    "    plt.show()"
   ]
  },
  {
   "cell_type": "markdown",
   "metadata": {
    "papermill": {
     "duration": 0.057379,
     "end_time": "2021-12-18T11:09:10.270465",
     "exception": false,
     "start_time": "2021-12-18T11:09:10.213086",
     "status": "completed"
    },
    "tags": []
   },
   "source": [
    "# Preprocessing"
   ]
  },
  {
   "cell_type": "markdown",
   "metadata": {
    "papermill": {
     "duration": 0.057377,
     "end_time": "2021-12-18T11:09:10.386757",
     "exception": false,
     "start_time": "2021-12-18T11:09:10.329380",
     "status": "completed"
    },
    "tags": []
   },
   "source": [
    "### Manage Outlier"
   ]
  },
  {
   "cell_type": "code",
   "execution_count": 13,
   "metadata": {
    "execution": {
     "iopub.execute_input": "2021-12-18T11:09:10.510825Z",
     "iopub.status.busy": "2021-12-18T11:09:10.510165Z",
     "iopub.status.idle": "2021-12-18T11:09:10.516417Z",
     "shell.execute_reply": "2021-12-18T11:09:10.516970Z",
     "shell.execute_reply.started": "2021-12-18T10:53:29.892434Z"
    },
    "papermill": {
     "duration": 0.073023,
     "end_time": "2021-12-18T11:09:10.517137",
     "exception": false,
     "start_time": "2021-12-18T11:09:10.444114",
     "status": "completed"
    },
    "tags": []
   },
   "outputs": [],
   "source": [
    "Q1 = df.quantile(0.25)\n",
    "Q3 = df.quantile(0.75)\n",
    "IQR = Q3 - Q1"
   ]
  },
  {
   "cell_type": "code",
   "execution_count": 14,
   "metadata": {
    "execution": {
     "iopub.execute_input": "2021-12-18T11:09:10.636763Z",
     "iopub.status.busy": "2021-12-18T11:09:10.636118Z",
     "iopub.status.idle": "2021-12-18T11:09:10.661386Z",
     "shell.execute_reply": "2021-12-18T11:09:10.661873Z",
     "shell.execute_reply.started": "2021-12-18T10:53:29.903871Z"
    },
    "papermill": {
     "duration": 0.087016,
     "end_time": "2021-12-18T11:09:10.662058",
     "exception": false,
     "start_time": "2021-12-18T11:09:10.575042",
     "status": "completed"
    },
    "tags": []
   },
   "outputs": [
    {
     "name": "stdout",
     "output_type": "stream",
     "text": [
      "IQR => Age: 0\n",
      "Z_Score => Age: 0\n",
      "********************************\n",
      "IQR => RestingBP: 28\n",
      "Z_Score => RestingBP: 8\n",
      "********************************\n",
      "IQR => Cholesterol: 183\n",
      "Z_Score => Cholesterol: 3\n",
      "********************************\n",
      "IQR => MaxHR: 2\n",
      "Z_Score => MaxHR: 1\n",
      "********************************\n",
      "IQR => Oldpeak: 16\n",
      "Z_Score => Oldpeak: 7\n",
      "********************************\n"
     ]
    }
   ],
   "source": [
    "for i in range(len(final_numeric_feature)):\n",
    "    print(\"IQR => {}: {}\".format(final_numeric_feature[i],(outlier_detect(df[final_numeric_feature],final_numeric_feature[i]).shape[0])))\n",
    "    print(\"Z_Score => {}: {}\".format(final_numeric_feature[i],(outlier_detect_normal(df[final_numeric_feature],final_numeric_feature[i]).shape[0])))\n",
    "    print(\"********************************\")"
   ]
  },
  {
   "cell_type": "code",
   "execution_count": 15,
   "metadata": {
    "execution": {
     "iopub.execute_input": "2021-12-18T11:09:10.781723Z",
     "iopub.status.busy": "2021-12-18T11:09:10.781079Z",
     "iopub.status.idle": "2021-12-18T11:09:12.389747Z",
     "shell.execute_reply": "2021-12-18T11:09:12.390256Z",
     "shell.execute_reply.started": "2021-12-18T10:53:29.941862Z"
    },
    "papermill": {
     "duration": 1.670206,
     "end_time": "2021-12-18T11:09:12.390427",
     "exception": false,
     "start_time": "2021-12-18T11:09:10.720221",
     "status": "completed"
    },
    "tags": []
   },
   "outputs": [
    {
     "name": "stdout",
     "output_type": "stream",
     "text": [
      "************************************************ Age ************************************************\n",
      "\n",
      "lower outlier: 0 ****** upper outlier: 0\n",
      "\n"
     ]
    },
    {
     "data": {
      "image/png": "[encoded data removed]",
      "text/plain": [
       "<Figure size 720x576 with 2 Axes>"
      ]
     },
     "metadata": {
      "needs_background": "light"
     },
     "output_type": "display_data"
    },
    {
     "name": "stdout",
     "output_type": "stream",
     "text": [
      "************************************************ RestingBP ************************************************\n",
      "\n",
      "lower outlier: 2 ****** upper outlier: 26\n",
      "\n"
     ]
    },
    {
     "data": {
      "image/png": "[encoded data removed]",
      "text/plain": [
       "<Figure size 720x576 with 2 Axes>"
      ]
     },
     "metadata": {
      "needs_background": "light"
     },
     "output_type": "display_data"
    },
    {
     "name": "stdout",
     "output_type": "stream",
     "text": [
      "************************************************ Cholesterol ************************************************\n",
      "\n",
      "lower outlier: 172 ****** upper outlier: 11\n",
      "\n"
     ]
    },
    {
     "data": {
      "image/png": "[encoded data removed]",
      "text/plain": [
       "<Figure size 720x576 with 2 Axes>"
      ]
     },
     "metadata": {
      "needs_background": "light"
     },
     "output_type": "display_data"
    },
    {
     "name": "stdout",
     "output_type": "stream",
     "text": [
      "************************************************ MaxHR ************************************************\n",
      "\n",
      "lower outlier: 2 ****** upper outlier: 0\n",
      "\n"
     ]
    },
    {
     "data": {
      "image/png": "[encoded data removed]",
      "text/plain": [
       "<Figure size 720x576 with 2 Axes>"
      ]
     },
     "metadata": {
      "needs_background": "light"
     },
     "output_type": "display_data"
    },
    {
     "name": "stdout",
     "output_type": "stream",
     "text": [
      "************************************************ Oldpeak ************************************************\n",
      "\n",
      "lower outlier: 1 ****** upper outlier: 15\n",
      "\n"
     ]
    },
    {
     "data": {
      "image/png": "[encoded data removed]",
      "text/plain": [
       "<Figure size 720x576 with 2 Axes>"
      ]
     },
     "metadata": {
      "needs_background": "light"
     },
     "output_type": "display_data"
    }
   ],
   "source": [
    "for i in range(len(final_numeric_feature)):\n",
    "    preprocess(df[final_numeric_feature], final_numeric_feature[i])"
   ]
  },
  {
   "cell_type": "code",
   "execution_count": 16,
   "metadata": {
    "execution": {
     "iopub.execute_input": "2021-12-18T11:09:12.523678Z",
     "iopub.status.busy": "2021-12-18T11:09:12.523049Z",
     "iopub.status.idle": "2021-12-18T11:09:12.537770Z",
     "shell.execute_reply": "2021-12-18T11:09:12.538280Z",
     "shell.execute_reply.started": "2021-12-18T10:53:31.523981Z"
    },
    "papermill": {
     "duration": 0.08327,
     "end_time": "2021-12-18T11:09:12.538460",
     "exception": false,
     "start_time": "2021-12-18T11:09:12.455190",
     "status": "completed"
    },
    "tags": []
   },
   "outputs": [
    {
     "data": {
      "text/plain": [
       "['RestingBP', 'Cholesterol', 'MaxHR', 'Oldpeak']"
      ]
     },
     "execution_count": 16,
     "metadata": {},
     "output_type": "execute_result"
    }
   ],
   "source": [
    "outlier = []\n",
    "for i in range(len(final_numeric_feature)):\n",
    "    if outlier_detect(df[final_numeric_feature],final_numeric_feature[i]).shape[0] !=0:\n",
    "        outlier.append(final_numeric_feature[i])\n",
    "\n",
    "outlier"
   ]
  },
  {
   "cell_type": "code",
   "execution_count": 17,
   "metadata": {
    "execution": {
     "iopub.execute_input": "2021-12-18T11:09:12.675550Z",
     "iopub.status.busy": "2021-12-18T11:09:12.674875Z",
     "iopub.status.idle": "2021-12-18T11:09:12.691267Z",
     "shell.execute_reply": "2021-12-18T11:09:12.690572Z",
     "shell.execute_reply.started": "2021-12-18T10:53:31.544051Z"
    },
    "papermill": {
     "duration": 0.086782,
     "end_time": "2021-12-18T11:09:12.691410",
     "exception": false,
     "start_time": "2021-12-18T11:09:12.604628",
     "status": "completed"
    },
    "tags": []
   },
   "outputs": [
    {
     "name": "stdout",
     "output_type": "stream",
     "text": [
      "outlier replace with upper bound - RestingBP\n",
      "outlier replace with upper bound - Cholesterol\n",
      "outlier replace with upper bound - MaxHR\n",
      "outlier replace with upper bound - Oldpeak\n",
      "\n",
      "***************************************************************\n",
      "\n",
      "outlier replace with lower bound - RestingBP\n",
      "outlier replace with lower bound - Cholesterol\n",
      "outlier replace with lower bound - MaxHR\n",
      "outlier replace with lower bound - Oldpeak\n"
     ]
    }
   ],
   "source": [
    "for i in range(len(outlier)):\n",
    "    replace_upper(df, outlier[i]) \n",
    "    \n",
    "print(\"\\n***************************************************************\\n\")\n",
    "for i in range(len(outlier)):\n",
    "    replace_lower(df, outlier[i])"
   ]
  },
  {
   "cell_type": "code",
   "execution_count": 18,
   "metadata": {
    "execution": {
     "iopub.execute_input": "2021-12-18T11:09:12.825316Z",
     "iopub.status.busy": "2021-12-18T11:09:12.824633Z",
     "iopub.status.idle": "2021-12-18T11:09:12.844489Z",
     "shell.execute_reply": "2021-12-18T11:09:12.845050Z",
     "shell.execute_reply.started": "2021-12-18T10:53:31.565683Z"
    },
    "papermill": {
     "duration": 0.088633,
     "end_time": "2021-12-18T11:09:12.845231",
     "exception": false,
     "start_time": "2021-12-18T11:09:12.756598",
     "status": "completed"
    },
    "tags": []
   },
   "outputs": [
    {
     "name": "stdout",
     "output_type": "stream",
     "text": [
      "IQR => Age: 0\n",
      "Z_Score => Age: 0\n",
      "********************************\n",
      "IQR => RestingBP: 0\n",
      "Z_Score => RestingBP: 0\n",
      "********************************\n",
      "IQR => Cholesterol: 0\n",
      "Z_Score => Cholesterol: 0\n",
      "********************************\n",
      "IQR => MaxHR: 0\n",
      "Z_Score => MaxHR: 0\n",
      "********************************\n",
      "IQR => Oldpeak: 0\n",
      "Z_Score => Oldpeak: 1\n",
      "********************************\n"
     ]
    }
   ],
   "source": [
    "for i in range(len(final_numeric_feature)):\n",
    "    print(\"IQR => {}: {}\".format(final_numeric_feature[i],(outlier_detect(df,final_numeric_feature[i]).shape[0])))\n",
    "    print(\"Z_Score => {}: {}\".format(final_numeric_feature[i],(outlier_detect_normal(df,final_numeric_feature[i]).shape[0])))\n",
    "    print(\"********************************\")"
   ]
  },
  {
   "cell_type": "markdown",
   "metadata": {
    "papermill": {
     "duration": 0.065644,
     "end_time": "2021-12-18T11:09:12.976263",
     "exception": false,
     "start_time": "2021-12-18T11:09:12.910619",
     "status": "completed"
    },
    "tags": []
   },
   "source": [
    "### Manage Missing --> We don't have any missing value in this dataset"
   ]
  },
  {
   "cell_type": "code",
   "execution_count": 19,
   "metadata": {
    "execution": {
     "iopub.execute_input": "2021-12-18T11:09:13.116294Z",
     "iopub.status.busy": "2021-12-18T11:09:13.115515Z",
     "iopub.status.idle": "2021-12-18T11:09:13.119112Z",
     "shell.execute_reply": "2021-12-18T11:09:13.118482Z",
     "shell.execute_reply.started": "2021-12-18T10:53:31.585987Z"
    },
    "papermill": {
     "duration": 0.077147,
     "end_time": "2021-12-18T11:09:13.119257",
     "exception": false,
     "start_time": "2021-12-18T11:09:13.042110",
     "status": "completed"
    },
    "tags": []
   },
   "outputs": [
    {
     "data": {
      "text/plain": [
       "Age               0\n",
       "Sex               0\n",
       "ChestPainType     0\n",
       "RestingBP         0\n",
       "Cholesterol       0\n",
       "FastingBS         0\n",
       "RestingECG        0\n",
       "MaxHR             0\n",
       "ExerciseAngina    0\n",
       "Oldpeak           0\n",
       "ST_Slope          0\n",
       "HeartDisease      0\n",
       "dtype: int64"
      ]
     },
     "execution_count": 19,
     "metadata": {},
     "output_type": "execute_result"
    }
   ],
   "source": [
    "df.isnull().sum()"
   ]
  },
  {
   "cell_type": "markdown",
   "metadata": {
    "papermill": {
     "duration": 0.065731,
     "end_time": "2021-12-18T11:09:13.250488",
     "exception": false,
     "start_time": "2021-12-18T11:09:13.184757",
     "status": "completed"
    },
    "tags": []
   },
   "source": [
    "### Convert qualitative data to quantitative"
   ]
  },
  {
   "cell_type": "code",
   "execution_count": 20,
   "metadata": {
    "execution": {
     "iopub.execute_input": "2021-12-18T11:09:13.402150Z",
     "iopub.status.busy": "2021-12-18T11:09:13.390631Z",
     "iopub.status.idle": "2021-12-18T11:09:13.406266Z",
     "shell.execute_reply": "2021-12-18T11:09:13.405586Z",
     "shell.execute_reply.started": "2021-12-18T10:53:31.596114Z"
    },
    "papermill": {
     "duration": 0.090568,
     "end_time": "2021-12-18T11:09:13.406412",
     "exception": false,
     "start_time": "2021-12-18T11:09:13.315844",
     "status": "completed"
    },
    "tags": []
   },
   "outputs": [
    {
     "data": {
      "text/html": [
       "<div>\n",
       "<style scoped>\n",
       "    .dataframe tbody tr th:only-of-type {\n",
       "        vertical-align: middle;\n",
       "    }\n",
       "\n",
       "    .dataframe tbody tr th {\n",
       "        vertical-align: top;\n",
       "    }\n",
       "\n",
       "    .dataframe thead th {\n",
       "        text-align: right;\n",
       "    }\n",
       "</style>\n",
       "<table border=\"1\" class=\"dataframe\">\n",
       "  <thead>\n",
       "    <tr style=\"text-align: right;\">\n",
       "      <th></th>\n",
       "      <th>Age</th>\n",
       "      <th>Sex</th>\n",
       "      <th>ChestPainType</th>\n",
       "      <th>RestingBP</th>\n",
       "      <th>Cholesterol</th>\n",
       "      <th>FastingBS</th>\n",
       "      <th>RestingECG</th>\n",
       "      <th>MaxHR</th>\n",
       "      <th>ExerciseAngina</th>\n",
       "      <th>Oldpeak</th>\n",
       "      <th>ST_Slope</th>\n",
       "      <th>HeartDisease</th>\n",
       "    </tr>\n",
       "  </thead>\n",
       "  <tbody>\n",
       "    <tr>\n",
       "      <th>0</th>\n",
       "      <td>40</td>\n",
       "      <td>1</td>\n",
       "      <td>1</td>\n",
       "      <td>140</td>\n",
       "      <td>289.0</td>\n",
       "      <td>0</td>\n",
       "      <td>1</td>\n",
       "      <td>172</td>\n",
       "      <td>0</td>\n",
       "      <td>0.0</td>\n",
       "      <td>2</td>\n",
       "      <td>0</td>\n",
       "    </tr>\n",
       "    <tr>\n",
       "      <th>1</th>\n",
       "      <td>49</td>\n",
       "      <td>0</td>\n",
       "      <td>2</td>\n",
       "      <td>160</td>\n",
       "      <td>180.0</td>\n",
       "      <td>0</td>\n",
       "      <td>1</td>\n",
       "      <td>156</td>\n",
       "      <td>0</td>\n",
       "      <td>1.0</td>\n",
       "      <td>1</td>\n",
       "      <td>1</td>\n",
       "    </tr>\n",
       "    <tr>\n",
       "      <th>2</th>\n",
       "      <td>37</td>\n",
       "      <td>1</td>\n",
       "      <td>1</td>\n",
       "      <td>130</td>\n",
       "      <td>283.0</td>\n",
       "      <td>0</td>\n",
       "      <td>2</td>\n",
       "      <td>98</td>\n",
       "      <td>0</td>\n",
       "      <td>0.0</td>\n",
       "      <td>2</td>\n",
       "      <td>0</td>\n",
       "    </tr>\n",
       "    <tr>\n",
       "      <th>3</th>\n",
       "      <td>48</td>\n",
       "      <td>0</td>\n",
       "      <td>0</td>\n",
       "      <td>138</td>\n",
       "      <td>214.0</td>\n",
       "      <td>0</td>\n",
       "      <td>1</td>\n",
       "      <td>108</td>\n",
       "      <td>1</td>\n",
       "      <td>1.5</td>\n",
       "      <td>1</td>\n",
       "      <td>1</td>\n",
       "    </tr>\n",
       "    <tr>\n",
       "      <th>4</th>\n",
       "      <td>54</td>\n",
       "      <td>1</td>\n",
       "      <td>2</td>\n",
       "      <td>150</td>\n",
       "      <td>195.0</td>\n",
       "      <td>0</td>\n",
       "      <td>1</td>\n",
       "      <td>122</td>\n",
       "      <td>0</td>\n",
       "      <td>0.0</td>\n",
       "      <td>2</td>\n",
       "      <td>0</td>\n",
       "    </tr>\n",
       "  </tbody>\n",
       "</table>\n",
       "</div>"
      ],
      "text/plain": [
       "   Age  Sex  ChestPainType  RestingBP  Cholesterol  FastingBS  RestingECG  \\\n",
       "0   40    1              1        140        289.0          0           1   \n",
       "1   49    0              2        160        180.0          0           1   \n",
       "2   37    1              1        130        283.0          0           2   \n",
       "3   48    0              0        138        214.0          0           1   \n",
       "4   54    1              2        150        195.0          0           1   \n",
       "\n",
       "   MaxHR  ExerciseAngina  Oldpeak  ST_Slope  HeartDisease  \n",
       "0    172               0      0.0         2             0  \n",
       "1    156               0      1.0         1             1  \n",
       "2     98               0      0.0         2             0  \n",
       "3    108               1      1.5         1             1  \n",
       "4    122               0      0.0         2             0  "
      ]
     },
     "execution_count": 20,
     "metadata": {},
     "output_type": "execute_result"
    }
   ],
   "source": [
    "le = LabelEncoder() \n",
    "df[final_categorical_feature] = df[final_categorical_feature].apply(lambda col: le.fit_transform(col)) \n",
    "df.head(5)"
   ]
  },
  {
   "cell_type": "markdown",
   "metadata": {
    "papermill": {
     "duration": 0.065608,
     "end_time": "2021-12-18T11:09:13.538719",
     "exception": false,
     "start_time": "2021-12-18T11:09:13.473111",
     "status": "completed"
    },
    "tags": []
   },
   "source": [
    "### Check for Duplicate data"
   ]
  },
  {
   "cell_type": "code",
   "execution_count": 21,
   "metadata": {
    "execution": {
     "iopub.execute_input": "2021-12-18T11:09:13.680468Z",
     "iopub.status.busy": "2021-12-18T11:09:13.679627Z",
     "iopub.status.idle": "2021-12-18T11:09:13.688651Z",
     "shell.execute_reply": "2021-12-18T11:09:13.688100Z",
     "shell.execute_reply.started": "2021-12-18T10:53:31.623845Z"
    },
    "papermill": {
     "duration": 0.083979,
     "end_time": "2021-12-18T11:09:13.688810",
     "exception": false,
     "start_time": "2021-12-18T11:09:13.604831",
     "status": "completed"
    },
    "tags": []
   },
   "outputs": [
    {
     "data": {
      "text/plain": [
       "(0, 12)"
      ]
     },
     "execution_count": 21,
     "metadata": {},
     "output_type": "execute_result"
    }
   ],
   "source": [
    "df.loc[df.duplicated()].shape"
   ]
  },
  {
   "cell_type": "markdown",
   "metadata": {
    "papermill": {
     "duration": 0.081011,
     "end_time": "2021-12-18T11:09:13.844503",
     "exception": false,
     "start_time": "2021-12-18T11:09:13.763492",
     "status": "completed"
    },
    "tags": []
   },
   "source": [
    "### --------------------------------------------------------------------"
   ]
  },
  {
   "cell_type": "code",
   "execution_count": 22,
   "metadata": {
    "execution": {
     "iopub.execute_input": "2021-12-18T11:09:14.012611Z",
     "iopub.status.busy": "2021-12-18T11:09:14.011972Z",
     "iopub.status.idle": "2021-12-18T11:09:14.894695Z",
     "shell.execute_reply": "2021-12-18T11:09:14.895228Z",
     "shell.execute_reply.started": "2021-12-18T10:53:31.638837Z"
    },
    "papermill": {
     "duration": 0.970541,
     "end_time": "2021-12-18T11:09:14.895413",
     "exception": false,
     "start_time": "2021-12-18T11:09:13.924872",
     "status": "completed"
    },
    "tags": []
   },
   "outputs": [
    {
     "data": {
      "text/plain": [
       "<AxesSubplot:>"
      ]
     },
     "execution_count": 22,
     "metadata": {},
     "output_type": "execute_result"
    },
    {
     "data": {
      "image/png": "[encoded data removed]",
      "text/plain": [
       "<Figure size 1600x1600 with 2 Axes>"
      ]
     },
     "metadata": {},
     "output_type": "display_data"
    }
   ],
   "source": [
    "mask = np.triu(np.ones_like(df.corr()))\n",
    "fig, ax = plt.subplots(figsize=(20,20),dpi=80, facecolor='w', edgecolor='k')\n",
    "sns.heatmap(df.corr(), mask= mask, cmap=\"YlGnBu\", vmax=.2, annot = True, center = 0,annot_kws={\"fontsize\":15})"
   ]
  },
  {
   "cell_type": "markdown",
   "metadata": {
    "papermill": {
     "duration": 0.070163,
     "end_time": "2021-12-18T11:09:15.035480",
     "exception": false,
     "start_time": "2021-12-18T11:09:14.965317",
     "status": "completed"
    },
    "tags": []
   },
   "source": [
    "# Train Test Split & Normalization"
   ]
  },
  {
   "cell_type": "code",
   "execution_count": 23,
   "metadata": {
    "execution": {
     "iopub.execute_input": "2021-12-18T11:09:15.183037Z",
     "iopub.status.busy": "2021-12-18T11:09:15.179924Z",
     "iopub.status.idle": "2021-12-18T11:09:15.184539Z",
     "shell.execute_reply": "2021-12-18T11:09:15.185074Z",
     "shell.execute_reply.started": "2021-12-18T10:53:32.496527Z"
    },
    "papermill": {
     "duration": 0.07829,
     "end_time": "2021-12-18T11:09:15.185240",
     "exception": false,
     "start_time": "2021-12-18T11:09:15.106950",
     "status": "completed"
    },
    "tags": []
   },
   "outputs": [],
   "source": [
    "x = df.drop(\"HeartDisease\", axis = 1)\n",
    "y = df['HeartDisease']"
   ]
  },
  {
   "cell_type": "code",
   "execution_count": 1,
   "metadata": {
    "execution": {
     "iopub.execute_input": "2021-12-18T11:09:15.330064Z",
     "iopub.status.busy": "2021-12-18T11:09:15.329426Z",
     "iopub.status.idle": "2021-12-18T11:09:15.342068Z",
     "shell.execute_reply": "2021-12-18T11:09:15.342753Z",
     "shell.execute_reply.started": "2021-12-18T10:53:32.505977Z"
    },
    "papermill": {
     "duration": 0.088257,
     "end_time": "2021-12-18T11:09:15.343001",
     "exception": false,
     "start_time": "2021-12-18T11:09:15.254744",
     "status": "completed"
    },
    "tags": []
   },
   "outputs": [
    {
     "ename": "NameError",
     "evalue": "name 'train_test_split' is not defined",
     "output_type": "error",
     "traceback": [
      "\u001b[1;31m---------------------------------------------------------------------------\u001b[0m",
      "\u001b[1;31mNameError\u001b[0m                                 Traceback (most recent call last)",
      "\u001b[1;32m<ipython-input-1-c35cf192dd9d>\u001b[0m in \u001b[0;36m<module>\u001b[1;34m\u001b[0m\n\u001b[1;32m----> 1\u001b[1;33m \u001b[0mx_train\u001b[0m\u001b[1;33m,\u001b[0m \u001b[0mx_test\u001b[0m\u001b[1;33m,\u001b[0m \u001b[0my_train\u001b[0m\u001b[1;33m,\u001b[0m \u001b[0my_test\u001b[0m \u001b[1;33m=\u001b[0m \u001b[0mtrain_test_split\u001b[0m\u001b[1;33m(\u001b[0m\u001b[0mx\u001b[0m\u001b[1;33m,\u001b[0m \u001b[0my\u001b[0m\u001b[1;33m,\u001b[0m \u001b[0mrandom_state\u001b[0m \u001b[1;33m=\u001b[0m\u001b[1;36m100\u001b[0m \u001b[1;33m,\u001b[0m\u001b[0mstratify\u001b[0m\u001b[1;33m=\u001b[0m\u001b[0mx\u001b[0m\u001b[1;33m,\u001b[0m \u001b[0mtest_size\u001b[0m \u001b[1;33m=\u001b[0m \u001b[1;36m0.3\u001b[0m\u001b[1;33m)\u001b[0m\u001b[1;33m\u001b[0m\u001b[1;33m\u001b[0m\u001b[0m\n\u001b[0m\u001b[0;32m      2\u001b[0m \u001b[0mprint\u001b[0m\u001b[1;33m(\u001b[0m\u001b[0my_train\u001b[0m\u001b[1;33m.\u001b[0m\u001b[0mvalue_counts\u001b[0m\u001b[1;33m(\u001b[0m\u001b[1;33m)\u001b[0m\u001b[1;33m)\u001b[0m\u001b[1;33m\u001b[0m\u001b[1;33m\u001b[0m\u001b[0m\n",
      "\u001b[1;31mNameError\u001b[0m: name 'train_test_split' is not defined"
     ]
    }
   ],
   "source": [
    "x_train, x_test, y_train, y_test = train_test_split(x, y, random_state =100 ,stratify=y, test_size = 0.3)\n",
    "print(y_train.value_counts())"
   ]
  },
  {
   "cell_type": "code",
   "execution_count": 25,
   "metadata": {
    "execution": {
     "iopub.execute_input": "2021-12-18T11:09:15.492616Z",
     "iopub.status.busy": "2021-12-18T11:09:15.491914Z",
     "iopub.status.idle": "2021-12-18T11:09:15.502094Z",
     "shell.execute_reply": "2021-12-18T11:09:15.501517Z",
     "shell.execute_reply.started": "2021-12-18T10:53:32.531374Z"
    },
    "papermill": {
     "duration": 0.088451,
     "end_time": "2021-12-18T11:09:15.502255",
     "exception": false,
     "start_time": "2021-12-18T11:09:15.413804",
     "status": "completed"
    },
    "tags": []
   },
   "outputs": [],
   "source": [
    "scale = MinMaxScaler()\n",
    "col = ['Age', 'ChestPainType', 'RestingBP', 'Cholesterol',\n",
    "       'RestingECG', 'MaxHR', 'Oldpeak', 'ST_Slope']\n",
    "\n",
    "x_train[col] = scale.fit_transform(x_train[col])\n",
    "x_test[col] = scale.transform(x_test[col])"
   ]
  },
  {
   "cell_type": "markdown",
   "metadata": {
    "papermill": {
     "duration": 0.07009,
     "end_time": "2021-12-18T11:09:15.642870",
     "exception": false,
     "start_time": "2021-12-18T11:09:15.572780",
     "status": "completed"
    },
    "tags": []
   },
   "source": [
    "# Feature Selction"
   ]
  },
  {
   "cell_type": "code",
   "execution_count": 26,
   "metadata": {
    "_kg_hide-output": true,
    "execution": {
     "iopub.execute_input": "2021-12-18T11:09:15.791478Z",
     "iopub.status.busy": "2021-12-18T11:09:15.790628Z",
     "iopub.status.idle": "2021-12-18T11:09:26.704931Z",
     "shell.execute_reply": "2021-12-18T11:09:26.703835Z",
     "shell.execute_reply.started": "2021-12-18T10:53:32.549445Z"
    },
    "papermill": {
     "duration": 10.992025,
     "end_time": "2021-12-18T11:09:26.705208",
     "exception": false,
     "start_time": "2021-12-18T11:09:15.713183",
     "status": "completed"
    },
    "tags": []
   },
   "outputs": [
    {
     "name": "stderr",
     "output_type": "stream",
     "text": [
      "[Parallel(n_jobs=-1)]: Using backend LokyBackend with 4 concurrent workers.\n",
      "[Parallel(n_jobs=-1)]: Done  11 out of  11 | elapsed:    3.7s finished\n",
      "\n",
      "[2021-12-18 11:09:19] Features: 1/7 -- score: 0.8130628881987577[Parallel(n_jobs=-1)]: Using backend LokyBackend with 4 concurrent workers.\n",
      "[Parallel(n_jobs=-1)]: Done  10 out of  10 | elapsed:    1.3s finished\n",
      "\n",
      "[2021-12-18 11:09:20] Features: 2/7 -- score: 0.8364615683229814[Parallel(n_jobs=-1)]: Using backend LokyBackend with 4 concurrent workers.\n",
      "[Parallel(n_jobs=-1)]: Done   7 out of   9 | elapsed:    1.0s remaining:    0.3s\n",
      "[Parallel(n_jobs=-1)]: Done   9 out of   9 | elapsed:    1.3s finished\n",
      "\n",
      "[2021-12-18 11:09:22] Features: 3/7 -- score: 0.8457880434782609[Parallel(n_jobs=-1)]: Using backend LokyBackend with 4 concurrent workers.\n",
      "[Parallel(n_jobs=-1)]: Done   6 out of   8 | elapsed:    1.1s remaining:    0.4s\n",
      "[Parallel(n_jobs=-1)]: Done   8 out of   8 | elapsed:    1.2s finished\n",
      "\n",
      "[2021-12-18 11:09:23] Features: 4/7 -- score: 0.8613548136645963[Parallel(n_jobs=-1)]: Using backend LokyBackend with 4 concurrent workers.\n",
      "[Parallel(n_jobs=-1)]: Done   4 out of   7 | elapsed:    0.6s remaining:    0.4s\n",
      "[Parallel(n_jobs=-1)]: Done   7 out of   7 | elapsed:    1.2s finished\n",
      "\n",
      "[2021-12-18 11:09:24] Features: 5/7 -- score: 0.8675756987577639[Parallel(n_jobs=-1)]: Using backend LokyBackend with 4 concurrent workers.\n",
      "[Parallel(n_jobs=-1)]: Done   3 out of   6 | elapsed:    0.8s remaining:    0.8s\n",
      "[Parallel(n_jobs=-1)]: Done   6 out of   6 | elapsed:    1.2s finished\n",
      "\n",
      "[2021-12-18 11:09:25] Features: 6/7 -- score: 0.8676145186335404[Parallel(n_jobs=-1)]: Using backend LokyBackend with 4 concurrent workers.\n",
      "[Parallel(n_jobs=-1)]: Done   5 out of   5 | elapsed:    1.0s finished\n",
      "\n",
      "[2021-12-18 11:09:26] Features: 7/7 -- score: 0.8738451086956522"
     ]
    }
   ],
   "source": [
    "sfs = SFS(GradientBoostingClassifier(n_estimators=100, random_state=0),\n",
    "          k_features = 7,\n",
    "          forward= True,\n",
    "          floating = False,\n",
    "          verbose= 2,\n",
    "          scoring= 'accuracy',\n",
    "          cv = 4,\n",
    "          n_jobs= -1).fit(x_train, y_train)"
   ]
  },
  {
   "cell_type": "code",
   "execution_count": 27,
   "metadata": {
    "execution": {
     "iopub.execute_input": "2021-12-18T11:09:26.863463Z",
     "iopub.status.busy": "2021-12-18T11:09:26.859679Z",
     "iopub.status.idle": "2021-12-18T11:09:26.865623Z",
     "shell.execute_reply": "2021-12-18T11:09:26.866139Z",
     "shell.execute_reply.started": "2021-12-18T10:53:43.284338Z"
    },
    "papermill": {
     "duration": 0.085465,
     "end_time": "2021-12-18T11:09:26.866323",
     "exception": false,
     "start_time": "2021-12-18T11:09:26.780858",
     "status": "completed"
    },
    "tags": []
   },
   "outputs": [
    {
     "name": "stdout",
     "output_type": "stream",
     "text": [
      "Best features:  ('Sex', 'Cholesterol', 'FastingBS', 'RestingECG', 'ExerciseAngina', 'Oldpeak', 'ST_Slope')\n",
      "Best score:  0.8738451086956522\n"
     ]
    }
   ],
   "source": [
    "print(\"Best features: \",sfs.k_feature_names_)\n",
    "print(\"Best score: \",sfs.k_score_)"
   ]
  },
  {
   "cell_type": "code",
   "execution_count": 28,
   "metadata": {
    "execution": {
     "iopub.execute_input": "2021-12-18T11:09:27.020748Z",
     "iopub.status.busy": "2021-12-18T11:09:27.020009Z",
     "iopub.status.idle": "2021-12-18T11:09:27.027162Z",
     "shell.execute_reply": "2021-12-18T11:09:27.027685Z",
     "shell.execute_reply.started": "2021-12-18T10:53:43.291378Z"
    },
    "papermill": {
     "duration": 0.086093,
     "end_time": "2021-12-18T11:09:27.027877",
     "exception": false,
     "start_time": "2021-12-18T11:09:26.941784",
     "status": "completed"
    },
    "tags": []
   },
   "outputs": [],
   "source": [
    "x_train_new = x_train[['Sex','Cholesterol','FastingBS','RestingECG','ExerciseAngina','Oldpeak','ST_Slope']]\n",
    "x_test_new = x_test[['Sex','Cholesterol','FastingBS','RestingECG','ExerciseAngina','Oldpeak','ST_Slope']]"
   ]
  },
  {
   "cell_type": "markdown",
   "metadata": {
    "papermill": {
     "duration": 0.074011,
     "end_time": "2021-12-18T11:09:27.176072",
     "exception": false,
     "start_time": "2021-12-18T11:09:27.102061",
     "status": "completed"
    },
    "tags": []
   },
   "source": [
    "# Modeling with tuned hyperparameters \n",
    "> We used Grid search and Random search for tuning hyperparameters"
   ]
  },
  {
   "cell_type": "markdown",
   "metadata": {
    "papermill": {
     "duration": 0.074363,
     "end_time": "2021-12-18T11:09:27.325013",
     "exception": false,
     "start_time": "2021-12-18T11:09:27.250650",
     "status": "completed"
    },
    "tags": []
   },
   "source": [
    "### `Decision Tree Classifier`"
   ]
  },
  {
   "cell_type": "code",
   "execution_count": 29,
   "metadata": {
    "execution": {
     "iopub.execute_input": "2021-12-18T11:09:27.478844Z",
     "iopub.status.busy": "2021-12-18T11:09:27.478116Z",
     "iopub.status.idle": "2021-12-18T11:09:27.560679Z",
     "shell.execute_reply": "2021-12-18T11:09:27.562502Z",
     "shell.execute_reply.started": "2021-12-18T10:53:43.309777Z"
    },
    "papermill": {
     "duration": 0.16284,
     "end_time": "2021-12-18T11:09:27.562914",
     "exception": false,
     "start_time": "2021-12-18T11:09:27.400074",
     "status": "completed"
    },
    "tags": []
   },
   "outputs": [
    {
     "name": "stdout",
     "output_type": "stream",
     "text": [
      "Tain set Accuracy:  0.8956386292834891\n",
      "Test set Accuracy:  0.8297101449275363\n",
      "cv:  0.8738461538461539\n",
      "\n",
      "************************************************\n",
      "precision_score:  0.8581081081081081\n",
      "recall_score:  0.8300653594771242\n",
      "f1_score:  0.8438538205980067\n",
      "************************************************\n",
      "\n",
      "Report:\n",
      "              precision    recall  f1-score   support\n",
      "\n",
      "           0       0.80      0.83      0.81       123\n",
      "           1       0.86      0.83      0.84       153\n",
      "\n",
      "    accuracy                           0.83       276\n",
      "   macro avg       0.83      0.83      0.83       276\n",
      "weighted avg       0.83      0.83      0.83       276\n",
      "\n",
      "\n"
     ]
    }
   ],
   "source": [
    "DT = DecisionTreeClassifier(max_depth=5, min_samples_leaf=5, random_state=0)\n",
    "DT.fit(x_train_new, y_train)\n",
    "\n",
    "y_test_pred_DT = DT.predict(x_test_new)\n",
    "y_train_pred_DT = DT.predict(x_train_new)\n",
    "\n",
    "test_acc_DT = accuracy_score(y_test, y_test_pred_DT)\n",
    "train_acc_DT = accuracy_score(y_train, y_train_pred_DT)\n",
    "scores_DT = cross_val_score(DT, x_train_new , y_train , cv = 10, scoring = 'accuracy' )\n",
    "\n",
    "precision_score_DT = precision_score(y_test, y_test_pred_DT)\n",
    "recall_score_DT = recall_score(y_test, y_test_pred_DT)\n",
    "f1_score_DT = f1_score(y_test, y_test_pred_DT)\n",
    "conf_DT = confusion_matrix(y_test, y_test_pred_DT)\n",
    "\n",
    "\n",
    "print(\"Tain set Accuracy: \", train_acc_DT)\n",
    "print(\"Test set Accuracy: \", test_acc_DT)\n",
    "print(\"cv:  %s\\n\"% scores_DT.mean())\n",
    "print(\"************************************************\")\n",
    "print(\"precision_score: \", precision_score_DT)\n",
    "print(\"recall_score: \", recall_score_DT)\n",
    "print(\"f1_score: \", f1_score_DT)\n",
    "print(\"************************************************\")\n",
    "print(\"\\nReport:\\n%s\\n\"%classification_report(y_test, y_test_pred_DT))"
   ]
  },
  {
   "cell_type": "markdown",
   "metadata": {
    "papermill": {
     "duration": 0.075842,
     "end_time": "2021-12-18T11:09:27.714306",
     "exception": false,
     "start_time": "2021-12-18T11:09:27.638464",
     "status": "completed"
    },
    "tags": []
   },
   "source": [
    "### `Random Forest Classifier`"
   ]
  },
  {
   "cell_type": "code",
   "execution_count": 30,
   "metadata": {
    "execution": {
     "iopub.execute_input": "2021-12-18T11:09:27.875283Z",
     "iopub.status.busy": "2021-12-18T11:09:27.867187Z",
     "iopub.status.idle": "2021-12-18T11:09:28.555855Z",
     "shell.execute_reply": "2021-12-18T11:09:28.556728Z",
     "shell.execute_reply.started": "2021-12-18T10:53:43.396929Z"
    },
    "papermill": {
     "duration": 0.767707,
     "end_time": "2021-12-18T11:09:28.556977",
     "exception": false,
     "start_time": "2021-12-18T11:09:27.789270",
     "status": "completed"
    },
    "tags": []
   },
   "outputs": [
    {
     "name": "stdout",
     "output_type": "stream",
     "text": [
      "Tain set Accuracy:  0.926791277258567\n",
      "Test set Accuracy:  0.8586956521739131\n",
      "cv:  0.8645673076923078\n",
      "\n",
      "************************************************\n",
      "precision_score:  0.875\n",
      "recall_score:  0.869281045751634\n",
      "f1_score:  0.8721311475409835\n",
      "************************************************\n",
      "\n",
      "Report:\n",
      "              precision    recall  f1-score   support\n",
      "\n",
      "           0       0.84      0.85      0.84       123\n",
      "           1       0.88      0.87      0.87       153\n",
      "\n",
      "    accuracy                           0.86       276\n",
      "   macro avg       0.86      0.86      0.86       276\n",
      "weighted avg       0.86      0.86      0.86       276\n",
      "\n",
      "\n"
     ]
    }
   ],
   "source": [
    "RF = RandomForestClassifier(criterion='entropy', min_samples_leaf=2, n_estimators=25,\n",
    "                       random_state=0)\n",
    "\n",
    "RF.fit(x_train_new, y_train)\n",
    "\n",
    "y_test_pred_RF = RF.predict(x_test_new)\n",
    "y_train_pred_RF = RF.predict(x_train_new)\n",
    "\n",
    "test_acc_RF = accuracy_score(y_test, y_test_pred_RF)\n",
    "train_acc_RF = accuracy_score(y_train, y_train_pred_RF)\n",
    "scores_RF= cross_val_score(RF, x_train_new , y_train , cv = 10, scoring = 'accuracy' )\n",
    "\n",
    "precision_score_RF = precision_score(y_test, y_test_pred_RF)\n",
    "recall_score_RF = recall_score(y_test, y_test_pred_RF)\n",
    "f1_score_RF = f1_score(y_test, y_test_pred_RF)\n",
    "conf_RF = confusion_matrix(y_test, y_test_pred_RF)\n",
    "\n",
    "\n",
    "print(\"Tain set Accuracy: \", train_acc_RF)\n",
    "print(\"Test set Accuracy: \", test_acc_RF)\n",
    "print(\"cv:  %s\\n\"% scores_RF.mean())\n",
    "print(\"************************************************\")\n",
    "print(\"precision_score: \", precision_score_RF)\n",
    "print(\"recall_score: \", recall_score_RF)\n",
    "print(\"f1_score: \", f1_score_RF)\n",
    "print(\"************************************************\")\n",
    "print(\"\\nReport:\\n%s\\n\"%classification_report(y_test, y_test_pred_RF))\n"
   ]
  },
  {
   "cell_type": "markdown",
   "metadata": {
    "papermill": {
     "duration": 0.075217,
     "end_time": "2021-12-18T11:09:28.708079",
     "exception": false,
     "start_time": "2021-12-18T11:09:28.632862",
     "status": "completed"
    },
    "tags": []
   },
   "source": [
    "### `MLPClassifier`"
   ]
  },
  {
   "cell_type": "code",
   "execution_count": 31,
   "metadata": {
    "execution": {
     "iopub.execute_input": "2021-12-18T11:09:28.862112Z",
     "iopub.status.busy": "2021-12-18T11:09:28.861386Z",
     "iopub.status.idle": "2021-12-18T11:09:32.153870Z",
     "shell.execute_reply": "2021-12-18T11:09:32.154468Z",
     "shell.execute_reply.started": "2021-12-18T10:53:44.088686Z"
    },
    "papermill": {
     "duration": 3.371336,
     "end_time": "2021-12-18T11:09:32.154646",
     "exception": false,
     "start_time": "2021-12-18T11:09:28.783310",
     "status": "completed"
    },
    "tags": []
   },
   "outputs": [
    {
     "name": "stdout",
     "output_type": "stream",
     "text": [
      "Tain set Accuracy:  0.8847352024922118\n",
      "Test set Accuracy:  0.8478260869565217\n",
      "cv:  0.8645432692307693\n",
      "\n",
      "************************************************\n",
      "precision_score:  0.8580645161290322\n",
      "recall_score:  0.869281045751634\n",
      "f1_score:  0.8636363636363638\n",
      "************************************************\n",
      "\n",
      "Report:\n",
      "              precision    recall  f1-score   support\n",
      "\n",
      "           0       0.83      0.82      0.83       123\n",
      "           1       0.86      0.87      0.86       153\n",
      "\n",
      "    accuracy                           0.85       276\n",
      "   macro avg       0.85      0.85      0.85       276\n",
      "weighted avg       0.85      0.85      0.85       276\n",
      "\n",
      "\n"
     ]
    }
   ],
   "source": [
    "MLP = MLPClassifier(hidden_layer_sizes=10, learning_rate_init=0.1, random_state=0,\n",
    "              solver='sgd')\n",
    "MLP.fit(x_train_new, y_train)\n",
    "\n",
    "y_test_pred_MLP = MLP.predict(x_test_new)\n",
    "y_train_pred_MLP = MLP.predict(x_train_new)\n",
    "\n",
    "test_acc_MLP = accuracy_score(y_test, y_test_pred_MLP)\n",
    "train_acc_MLP = accuracy_score(y_train, y_train_pred_MLP)\n",
    "scores_MLP = cross_val_score(MLP, x_train_new , y_train , cv = 10, scoring = 'accuracy' )\n",
    "\n",
    "precision_score_MLP = precision_score(y_test, y_test_pred_MLP)\n",
    "recall_score_MLP = recall_score(y_test, y_test_pred_MLP)\n",
    "f1_score_MLP = f1_score(y_test, y_test_pred_MLP)\n",
    "conf_MLP = confusion_matrix(y_test, y_test_pred_MLP)\n",
    "\n",
    "\n",
    "print(\"Tain set Accuracy: \", train_acc_MLP)\n",
    "print(\"Test set Accuracy: \", test_acc_MLP)\n",
    "print(\"cv:  %s\\n\"% scores_MLP.mean())\n",
    "print(\"************************************************\")\n",
    "print(\"precision_score: \", precision_score_MLP)\n",
    "print(\"recall_score: \", recall_score_MLP)\n",
    "print(\"f1_score: \", f1_score_MLP)\n",
    "print(\"************************************************\")\n",
    "print(\"\\nReport:\\n%s\\n\"%classification_report(y_test, y_test_pred_MLP))"
   ]
  },
  {
   "cell_type": "markdown",
   "metadata": {
    "papermill": {
     "duration": 0.074556,
     "end_time": "2021-12-18T11:09:32.304130",
     "exception": false,
     "start_time": "2021-12-18T11:09:32.229574",
     "status": "completed"
    },
    "tags": []
   },
   "source": [
    "### `Support Vector Classifier`"
   ]
  },
  {
   "cell_type": "code",
   "execution_count": 1,
   "metadata": {
    "execution": {
     "iopub.execute_input": "2021-12-18T11:09:32.458889Z",
     "iopub.status.busy": "2021-12-18T11:09:32.457945Z",
     "iopub.status.idle": "2021-12-18T11:09:33.090270Z",
     "shell.execute_reply": "2021-12-18T11:09:33.090831Z",
     "shell.execute_reply.started": "2021-12-18T10:53:47.448711Z"
    },
    "papermill": {
     "duration": 0.711117,
     "end_time": "2021-12-18T11:09:33.091043",
     "exception": false,
     "start_time": "2021-12-18T11:09:32.379926",
     "status": "completed"
    },
    "tags": []
   },
   "outputs": [
    {
     "ename": "NameError",
     "evalue": "name 'SVC' is not defined",
     "output_type": "error",
     "traceback": [
      "\u001b[1;31m---------------------------------------------------------------------------\u001b[0m",
      "\u001b[1;31mNameError\u001b[0m                                 Traceback (most recent call last)",
      "\u001b[1;32m<ipython-input-1-394473395ff5>\u001b[0m in \u001b[0;36m<module>\u001b[1;34m\u001b[0m\n\u001b[1;32m----> 1\u001b[1;33m \u001b[0mSVM\u001b[0m \u001b[1;33m=\u001b[0m \u001b[0mSVC\u001b[0m\u001b[1;33m(\u001b[0m\u001b[0mC\u001b[0m\u001b[1;33m=\u001b[0m\u001b[1;36m10\u001b[0m\u001b[1;33m,\u001b[0m \u001b[0mgamma\u001b[0m\u001b[1;33m=\u001b[0m\u001b[1;36m0.5\u001b[0m\u001b[1;33m,\u001b[0m \u001b[0mkernel\u001b[0m\u001b[1;33m=\u001b[0m\u001b[1;34m'poly'\u001b[0m\u001b[1;33m,\u001b[0m \u001b[0mrandom_state\u001b[0m\u001b[1;33m=\u001b[0m\u001b[1;36m0\u001b[0m\u001b[1;33m,\u001b[0m \u001b[0mprobability\u001b[0m\u001b[1;33m=\u001b[0m\u001b[1;32mTrue\u001b[0m\u001b[1;33m)\u001b[0m\u001b[1;33m\u001b[0m\u001b[1;33m\u001b[0m\u001b[0m\n\u001b[0m\u001b[0;32m      2\u001b[0m \u001b[0mSVM\u001b[0m\u001b[1;33m.\u001b[0m\u001b[0mfit\u001b[0m\u001b[1;33m(\u001b[0m\u001b[0mx_train_new\u001b[0m\u001b[1;33m,\u001b[0m \u001b[0my_train\u001b[0m\u001b[1;33m)\u001b[0m\u001b[1;33m\u001b[0m\u001b[1;33m\u001b[0m\u001b[0m\n\u001b[0;32m      3\u001b[0m \u001b[1;33m\u001b[0m\u001b[0m\n\u001b[0;32m      4\u001b[0m \u001b[0my_test_pred_SVM\u001b[0m \u001b[1;33m=\u001b[0m \u001b[0mSVM\u001b[0m\u001b[1;33m.\u001b[0m\u001b[0mpredict\u001b[0m\u001b[1;33m(\u001b[0m\u001b[0mx_test_new\u001b[0m\u001b[1;33m)\u001b[0m\u001b[1;33m\u001b[0m\u001b[1;33m\u001b[0m\u001b[0m\n\u001b[0;32m      5\u001b[0m \u001b[0my_train_pred_SVM\u001b[0m \u001b[1;33m=\u001b[0m \u001b[0mSVM\u001b[0m\u001b[1;33m.\u001b[0m\u001b[0mpredict\u001b[0m\u001b[1;33m(\u001b[0m\u001b[0mx_train_new\u001b[0m\u001b[1;33m)\u001b[0m\u001b[1;33m\u001b[0m\u001b[1;33m\u001b[0m\u001b[0m\n",
      "\u001b[1;31mNameError\u001b[0m: name 'SVC' is not defined"
     ]
    }
   ],
   "source": [
    "SVM = SVC(C=10, gamma=0.5, kernel='poly', random_state=0, probability=True)\n",
    "SVM.fit(x_train_new, y_train)\n",
    "\n",
    "y_test_pred_SVM = SVM.predict(x_test_new)\n",
    "y_train_pred_SVM = SVM.predict(x_train_new)\n",
    "\n",
    "test_acc_SVM = accuracy_score(y_test, y_test_pred_SVM)\n",
    "train_acc_SVM = accuracy_score(y_train, y_train_pred_SVM)\n",
    "scores_SVM = cross_val_score(SVM, x_train_new , y_train , cv = 10, scoring = 'accuracy' )\n",
    "\n",
    "precision_score_SVM = precision_score(y_test, y_test_pred_SVM, average='macro')\n",
    "recall_score_SVM = recall_score(y_test, y_test_pred_SVM, average='macro')\n",
    "f1_score_SVM = f1_score(y_test, y_test_pred_SVM, average='macro')\n",
    "conf_SVM = confusion_matrix(y_test, y_test_pred_SVM)\n",
    "\n",
    "\n",
    "print(\"Tain set Accuracy: \", train_acc_SVM)\n",
    "print(\"Test set Accuracy: \", test_acc_SVM)\n",
    "print(\"cv:  %s\\n\"% scores_SVM.mean())\n",
    "print(\"************************************************\")\n",
    "print(\"precision_score: \", precision_score_SVM)\n",
    "print(\"recall_score: \", recall_score_SVM)\n",
    "print(\"f1_score: \", f1_score_SVM)\n",
    "print(\"************************************************\")\n",
    "print(\"\\nReport:\\n%s\\n\"%classification_report(y_test, y_test_pred_SVM))"
   ]
  },
  {
   "cell_type": "markdown",
   "metadata": {
    "papermill": {
     "duration": 0.074832,
     "end_time": "2021-12-18T11:09:33.241682",
     "exception": false,
     "start_time": "2021-12-18T11:09:33.166850",
     "status": "completed"
    },
    "tags": []
   },
   "source": [
    "### `Extra Trees Classifier`"
   ]
  },
  {
   "cell_type": "code",
   "execution_count": 33,
   "metadata": {
    "execution": {
     "iopub.execute_input": "2021-12-18T11:09:33.440817Z",
     "iopub.status.busy": "2021-12-18T11:09:33.404340Z",
     "iopub.status.idle": "2021-12-18T11:09:36.585833Z",
     "shell.execute_reply": "2021-12-18T11:09:36.585339Z",
     "shell.execute_reply.started": "2021-12-18T10:53:48.088540Z"
    },
    "papermill": {
     "duration": 3.26884,
     "end_time": "2021-12-18T11:09:36.585990",
     "exception": false,
     "start_time": "2021-12-18T11:09:33.317150",
     "status": "completed"
    },
    "tags": []
   },
   "outputs": [
    {
     "name": "stdout",
     "output_type": "stream",
     "text": [
      "Tain set Accuracy:  0.8722741433021807\n",
      "Test set Accuracy:  0.8405797101449275\n",
      "cv:  0.8707932692307694\n",
      "\n",
      "************************************************\n",
      "precision_score:  0.8385093167701864\n",
      "recall_score:  0.8823529411764706\n",
      "f1_score:  0.8598726114649682\n",
      "************************************************\n",
      "\n",
      "Report:\n",
      "              precision    recall  f1-score   support\n",
      "\n",
      "           0       0.84      0.79      0.82       123\n",
      "           1       0.84      0.88      0.86       153\n",
      "\n",
      "    accuracy                           0.84       276\n",
      "   macro avg       0.84      0.84      0.84       276\n",
      "weighted avg       0.84      0.84      0.84       276\n",
      "\n",
      "\n"
     ]
    }
   ],
   "source": [
    "ET = ExtraTreesClassifier(max_depth=4, min_samples_leaf=4, min_samples_split=4,\n",
    "                     n_estimators=200, random_state=0)\n",
    "ET.fit(x_train_new, y_train)\n",
    "\n",
    "y_test_pred_ET = ET.predict(x_test_new)\n",
    "y_train_pred_ET = ET.predict(x_train_new)\n",
    "\n",
    "test_acc_ET = accuracy_score(y_test, y_test_pred_ET)\n",
    "train_acc_ET = accuracy_score(y_train, y_train_pred_ET)\n",
    "scores_ET = cross_val_score(ET, x_train_new , y_train , cv = 10, scoring = 'accuracy' )\n",
    "\n",
    "precision_score_ET = precision_score(y_test, y_test_pred_ET)\n",
    "recall_score_ET = recall_score(y_test, y_test_pred_ET)\n",
    "f1_score_ET = f1_score(y_test, y_test_pred_ET)\n",
    "conf_ET = confusion_matrix(y_test, y_test_pred_ET)\n",
    "\n",
    "\n",
    "print(\"Tain set Accuracy: \", train_acc_ET)\n",
    "print(\"Test set Accuracy: \", test_acc_ET)\n",
    "print(\"cv:  %s\\n\"% scores_ET.mean())\n",
    "print(\"************************************************\")\n",
    "print(\"precision_score: \", precision_score_ET)\n",
    "print(\"recall_score: \", recall_score_ET)\n",
    "print(\"f1_score: \", f1_score_ET)\n",
    "print(\"************************************************\")\n",
    "print(\"\\nReport:\\n%s\\n\"%classification_report(y_test, y_test_pred_ET))"
   ]
  },
  {
   "cell_type": "markdown",
   "metadata": {
    "papermill": {
     "duration": 0.085099,
     "end_time": "2021-12-18T11:09:36.746623",
     "exception": false,
     "start_time": "2021-12-18T11:09:36.661524",
     "status": "completed"
    },
    "tags": []
   },
   "source": [
    "### `Gradient Boosting Classifier`"
   ]
  },
  {
   "cell_type": "code",
   "execution_count": 34,
   "metadata": {
    "execution": {
     "iopub.execute_input": "2021-12-18T11:09:36.928049Z",
     "iopub.status.busy": "2021-12-18T11:09:36.927324Z",
     "iopub.status.idle": "2021-12-18T11:09:37.306074Z",
     "shell.execute_reply": "2021-12-18T11:09:37.305325Z",
     "shell.execute_reply.started": "2021-12-18T10:53:51.248961Z"
    },
    "papermill": {
     "duration": 0.470314,
     "end_time": "2021-12-18T11:09:37.306239",
     "exception": false,
     "start_time": "2021-12-18T11:09:36.835925",
     "status": "completed"
    },
    "tags": []
   },
   "outputs": [
    {
     "name": "stdout",
     "output_type": "stream",
     "text": [
      "Tain set Accuracy:  0.897196261682243\n",
      "Test set Accuracy:  0.8333333333333334\n",
      "cv:  0.8738701923076924\n",
      "\n",
      "************************************************\n",
      "precision_score:  0.8451612903225807\n",
      "recall_score:  0.8562091503267973\n",
      "f1_score:  0.8506493506493505\n",
      "************************************************\n",
      "\n",
      "Report:\n",
      "              precision    recall  f1-score   support\n",
      "\n",
      "           0       0.82      0.80      0.81       123\n",
      "           1       0.85      0.86      0.85       153\n",
      "\n",
      "    accuracy                           0.83       276\n",
      "   macro avg       0.83      0.83      0.83       276\n",
      "weighted avg       0.83      0.83      0.83       276\n",
      "\n",
      "\n"
     ]
    }
   ],
   "source": [
    "GB = GradientBoostingClassifier(criterion='mse', loss='exponential',\n",
    "                           min_samples_leaf=4, min_samples_split=6,\n",
    "                           n_estimators=25, random_state=0)\n",
    "GB.fit(x_train_new, y_train)\n",
    "\n",
    "y_test_pred_GB = GB.predict(x_test_new)\n",
    "y_train_pred_GB = GB.predict(x_train_new)\n",
    "\n",
    "test_acc_GB = accuracy_score(y_test, y_test_pred_GB)\n",
    "train_acc_GB = accuracy_score(y_train, y_train_pred_GB)\n",
    "scores_GB = cross_val_score(GB, x_train_new , y_train , cv = 10, scoring = 'accuracy' )\n",
    "\n",
    "\n",
    "precision_score_GB = precision_score(y_test, y_test_pred_GB)\n",
    "recall_score_GB = recall_score(y_test, y_test_pred_GB)\n",
    "f1_score_GB = f1_score(y_test, y_test_pred_GB)\n",
    "conf_GB = confusion_matrix(y_test, y_test_pred_GB)\n",
    "\n",
    "print(\"Tain set Accuracy: \", train_acc_GB)\n",
    "print(\"Test set Accuracy: \", test_acc_GB)\n",
    "print(\"cv:  %s\\n\"% scores_GB.mean())\n",
    "print(\"************************************************\")\n",
    "print(\"precision_score: \", precision_score_GB)\n",
    "print(\"recall_score: \", recall_score_GB)\n",
    "print(\"f1_score: \", f1_score_GB)\n",
    "print(\"************************************************\")\n",
    "print(\"\\nReport:\\n%s\\n\"%classification_report(y_test, y_test_pred_GB))"
   ]
  },
  {
   "cell_type": "markdown",
   "metadata": {
    "papermill": {
     "duration": 0.078202,
     "end_time": "2021-12-18T11:09:37.461462",
     "exception": false,
     "start_time": "2021-12-18T11:09:37.383260",
     "status": "completed"
    },
    "tags": []
   },
   "source": [
    "### `Logistic Regression`"
   ]
  },
  {
   "cell_type": "code",
   "execution_count": 35,
   "metadata": {
    "execution": {
     "iopub.execute_input": "2021-12-18T11:09:37.625417Z",
     "iopub.status.busy": "2021-12-18T11:09:37.617733Z",
     "iopub.status.idle": "2021-12-18T11:09:37.725621Z",
     "shell.execute_reply": "2021-12-18T11:09:37.726321Z",
     "shell.execute_reply.started": "2021-12-18T10:53:51.693564Z"
    },
    "papermill": {
     "duration": 0.188283,
     "end_time": "2021-12-18T11:09:37.726571",
     "exception": false,
     "start_time": "2021-12-18T11:09:37.538288",
     "status": "completed"
    },
    "tags": []
   },
   "outputs": [
    {
     "name": "stdout",
     "output_type": "stream",
     "text": [
      "Tain set Accuracy:  0.8504672897196262\n",
      "Test set Accuracy:  0.8115942028985508\n",
      "cv:  0.8520432692307693\n",
      "\n",
      "************************************************\n",
      "precision_score:  0.8435374149659864\n",
      "recall_score:  0.8104575163398693\n",
      "f1_score:  0.8266666666666667\n",
      "************************************************\n",
      "\n",
      "Report:\n",
      "              precision    recall  f1-score   support\n",
      "\n",
      "           0       0.78      0.81      0.79       123\n",
      "           1       0.84      0.81      0.83       153\n",
      "\n",
      "    accuracy                           0.81       276\n",
      "   macro avg       0.81      0.81      0.81       276\n",
      "weighted avg       0.81      0.81      0.81       276\n",
      "\n",
      "\n"
     ]
    }
   ],
   "source": [
    "LR = LogisticRegression(C=2, penalty='l1', random_state=0, solver='liblinear')\n",
    "LR.fit(x_train_new, y_train)\n",
    "\n",
    "y_test_pred_LR = LR.predict(x_test_new)\n",
    "y_train_pred_LR = LR.predict(x_train_new)\n",
    "\n",
    "test_acc_LR = accuracy_score(y_test, y_test_pred_LR)\n",
    "train_acc_LR = accuracy_score(y_train, y_train_pred_LR)\n",
    "scores_LR = cross_val_score(LR, x_train_new , y_train , cv = 10, scoring = 'accuracy' )\n",
    "\n",
    "precision_score_LR = precision_score(y_test, y_test_pred_LR)\n",
    "recall_score_LR = recall_score(y_test, y_test_pred_LR)\n",
    "f1_score_LR = f1_score(y_test, y_test_pred_LR)\n",
    "conf_LR = confusion_matrix(y_test, y_test_pred_LR)\n",
    "\n",
    "\n",
    "print(\"Tain set Accuracy: \", train_acc_LR)\n",
    "print(\"Test set Accuracy: \", test_acc_LR)\n",
    "print(\"cv:  %s\\n\"% scores_LR.mean())\n",
    "print(\"************************************************\")\n",
    "print(\"precision_score: \", precision_score_LR)\n",
    "print(\"recall_score: \", recall_score_LR)\n",
    "print(\"f1_score: \", f1_score_LR)\n",
    "print(\"************************************************\")\n",
    "print(\"\\nReport:\\n%s\\n\"%classification_report(y_test, y_test_pred_LR))"
   ]
  },
  {
   "cell_type": "markdown",
   "metadata": {
    "papermill": {
     "duration": 0.077229,
     "end_time": "2021-12-18T11:09:37.883060",
     "exception": false,
     "start_time": "2021-12-18T11:09:37.805831",
     "status": "completed"
    },
    "tags": []
   },
   "source": [
    "### `KNeighbors Classifier`"
   ]
  },
  {
   "cell_type": "code",
   "execution_count": 36,
   "metadata": {
    "execution": {
     "iopub.execute_input": "2021-12-18T11:09:38.042199Z",
     "iopub.status.busy": "2021-12-18T11:09:38.041228Z",
     "iopub.status.idle": "2021-12-18T11:09:38.702790Z",
     "shell.execute_reply": "2021-12-18T11:09:38.702284Z",
     "shell.execute_reply.started": "2021-12-18T10:53:51.818416Z"
    },
    "papermill": {
     "duration": 0.742255,
     "end_time": "2021-12-18T11:09:38.702952",
     "exception": false,
     "start_time": "2021-12-18T11:09:37.960697",
     "status": "completed"
    },
    "tags": []
   },
   "outputs": [
    {
     "data": {
      "text/plain": [
       "Text(0.5, 1.0, 'Accuracy Scores for Values of k of k-Nearest-Neighbors')"
      ]
     },
     "execution_count": 36,
     "metadata": {},
     "output_type": "execute_result"
    },
    {
     "data": {
      "image/png": "[encoded data removed]",
      "text/plain": [
       "<Figure size 432x288 with 1 Axes>"
      ]
     },
     "metadata": {
      "needs_background": "light"
     },
     "output_type": "display_data"
    }
   ],
   "source": [
    "k_range = list(range(2,25))\n",
    "scores = []\n",
    "\n",
    "for k in k_range:\n",
    "    KNN = KNeighborsClassifier(n_neighbors=k)\n",
    "    KNN.fit(x_train_new, y_train)\n",
    "    y_pred = KNN.predict(x_test_new)\n",
    "    scores.append(accuracy_score(y_test, y_pred))\n",
    "    \n",
    "plt.plot(k_range, scores)\n",
    "\n",
    "\n",
    "plt.xlabel('Value of k for KNN')\n",
    "plt.ylabel('Accuracy Score')\n",
    "\n",
    "plt.title('Accuracy Scores for Values of k of k-Nearest-Neighbors')"
   ]
  },
  {
   "cell_type": "code",
   "execution_count": 37,
   "metadata": {
    "execution": {
     "iopub.execute_input": "2021-12-18T11:09:38.862749Z",
     "iopub.status.busy": "2021-12-18T11:09:38.861691Z",
     "iopub.status.idle": "2021-12-18T11:09:38.871415Z",
     "shell.execute_reply": "2021-12-18T11:09:38.872112Z",
     "shell.execute_reply.started": "2021-12-18T10:53:52.463537Z"
    },
    "papermill": {
     "duration": 0.091565,
     "end_time": "2021-12-18T11:09:38.872332",
     "exception": false,
     "start_time": "2021-12-18T11:09:38.780767",
     "status": "completed"
    },
    "tags": []
   },
   "outputs": [
    {
     "name": "stdout",
     "output_type": "stream",
     "text": [
      "max accuracy: 0.8442028985507246\n",
      "max accuracy id: 8\n"
     ]
    }
   ],
   "source": [
    "d = {'best features number': range(2,25), 'train_score': scores}\n",
    "df = pd.DataFrame(data=d)\n",
    "print(\"max accuracy:\",df[\"train_score\"].max())\n",
    "print(\"max accuracy id:\",df[\"train_score\"].idxmax())"
   ]
  },
  {
   "cell_type": "code",
   "execution_count": 38,
   "metadata": {
    "execution": {
     "iopub.execute_input": "2021-12-18T11:09:39.039840Z",
     "iopub.status.busy": "2021-12-18T11:09:39.038775Z",
     "iopub.status.idle": "2021-12-18T11:09:39.199419Z",
     "shell.execute_reply": "2021-12-18T11:09:39.200236Z",
     "shell.execute_reply.started": "2021-12-18T10:53:52.472606Z"
    },
    "papermill": {
     "duration": 0.24878,
     "end_time": "2021-12-18T11:09:39.200487",
     "exception": false,
     "start_time": "2021-12-18T11:09:38.951707",
     "status": "completed"
    },
    "tags": []
   },
   "outputs": [
    {
     "name": "stdout",
     "output_type": "stream",
     "text": [
      "Tain set Accuracy:  0.8753894080996885\n",
      "Test set Accuracy:  0.8260869565217391\n",
      "cv:  0.8505528846153846\n",
      "\n",
      "************************************************\n",
      "precision_score:  0.8523489932885906\n",
      "recall_score:  0.8300653594771242\n",
      "f1_score:  0.8410596026490067\n",
      "************************************************\n",
      "\n",
      "Report:\n",
      "              precision    recall  f1-score   support\n",
      "\n",
      "           0       0.80      0.82      0.81       123\n",
      "           1       0.85      0.83      0.84       153\n",
      "\n",
      "    accuracy                           0.83       276\n",
      "   macro avg       0.82      0.83      0.82       276\n",
      "weighted avg       0.83      0.83      0.83       276\n",
      "\n",
      "\n"
     ]
    }
   ],
   "source": [
    "KNN = KNeighborsClassifier(n_neighbors=8)\n",
    "KNN.fit(x_train_new, y_train)\n",
    "\n",
    "y_test_pred_KNN = KNN.predict(x_test_new)\n",
    "y_train_pred_KNN = KNN.predict(x_train_new)\n",
    "\n",
    "test_acc_KNN = accuracy_score(y_test, y_test_pred_KNN)\n",
    "train_acc_KNN = accuracy_score(y_train, y_train_pred_KNN)\n",
    "scores_KNN = cross_val_score(KNN, x_train_new , y_train , cv = 10, scoring = 'accuracy' )\n",
    "\n",
    "precision_score_KNN = precision_score(y_test, y_test_pred_KNN)\n",
    "recall_score_KNN = recall_score(y_test, y_test_pred_KNN)\n",
    "f1_score_KNN = f1_score(y_test, y_test_pred_KNN)\n",
    "conf_KNN = confusion_matrix(y_test, y_test_pred_KNN)\n",
    "\n",
    "print(\"Tain set Accuracy: \", train_acc_KNN)\n",
    "print(\"Test set Accuracy: \", test_acc_KNN)\n",
    "print(\"cv:  %s\\n\"% scores_KNN.mean())\n",
    "print(\"************************************************\")\n",
    "print(\"precision_score: \", precision_score_KNN)\n",
    "print(\"recall_score: \", recall_score_KNN)\n",
    "print(\"f1_score: \", f1_score_KNN)\n",
    "print(\"************************************************\")\n",
    "print(\"\\nReport:\\n%s\\n\"%classification_report(y_test, y_test_pred_KNN))"
   ]
  },
  {
   "cell_type": "markdown",
   "metadata": {
    "papermill": {
     "duration": 0.078096,
     "end_time": "2021-12-18T11:09:39.358120",
     "exception": false,
     "start_time": "2021-12-18T11:09:39.280024",
     "status": "completed"
    },
    "tags": []
   },
   "source": [
    "### `Stacking Classifier`"
   ]
  },
  {
   "cell_type": "code",
   "execution_count": 39,
   "metadata": {
    "execution": {
     "iopub.execute_input": "2021-12-18T11:09:39.520666Z",
     "iopub.status.busy": "2021-12-18T11:09:39.519651Z",
     "iopub.status.idle": "2021-12-18T11:10:26.942342Z",
     "shell.execute_reply": "2021-12-18T11:10:26.943142Z",
     "shell.execute_reply.started": "2021-12-18T10:53:52.628772Z"
    },
    "papermill": {
     "duration": 47.505685,
     "end_time": "2021-12-18T11:10:26.943378",
     "exception": false,
     "start_time": "2021-12-18T11:09:39.437693",
     "status": "completed"
    },
    "tags": []
   },
   "outputs": [
    {
     "name": "stdout",
     "output_type": "stream",
     "text": [
      "Tain set Accuracy:  0.897196261682243\n",
      "Test set Accuracy:  0.8586956521739131\n",
      "cv:  0.8692067307692308\n",
      "\n",
      "************************************************\n",
      "precision_score:  0.875\n",
      "recall_score:  0.869281045751634\n",
      "f1_score:  0.8721311475409835\n",
      "************************************************\n",
      "\n",
      "Report:\n",
      "              precision    recall  f1-score   support\n",
      "\n",
      "           0       0.84      0.85      0.84       123\n",
      "           1       0.88      0.87      0.87       153\n",
      "\n",
      "    accuracy                           0.86       276\n",
      "   macro avg       0.86      0.86      0.86       276\n",
      "weighted avg       0.86      0.86      0.86       276\n",
      "\n",
      "\n"
     ]
    }
   ],
   "source": [
    "estimators = [('DT', DT),\n",
    "              ('RF', RF),\n",
    "              ('SVM', SVM),\n",
    "              ('MLP', MLP),\n",
    "              ('ET', ET),\n",
    "              ('LR', LR),\n",
    "              ('KNN', KNN),\n",
    "              ('GB', GB),\n",
    "             ]\n",
    "\n",
    "SC_tune_LR = StackingClassifier(estimators = estimators, final_estimator = LR)\n",
    "SC_tune_LR.fit(x_train_new, y_train)\n",
    "\n",
    "y_test_pred_SC_tune_LR = SC_tune_LR.predict(x_test_new)\n",
    "y_train_pred_SC_tune_LR = SC_tune_LR.predict(x_train_new)\n",
    "\n",
    "test_acc_SC_tune_LR = accuracy_score(y_test, y_test_pred_SC_tune_LR)\n",
    "train_acc_SC_tune_LR = accuracy_score(y_train, y_train_pred_SC_tune_LR)\n",
    "scores_SC_tune_LR = cross_val_score(SC_tune_LR, x_train_new , y_train , cv = 10, scoring = 'accuracy' )\n",
    "\n",
    "\n",
    "precision_score_SC_tune_LR = precision_score(y_test, y_test_pred_SC_tune_LR)\n",
    "recall_score_SC_tune_LR = recall_score(y_test, y_test_pred_SC_tune_LR)\n",
    "f1_score_SC_tune_LR = f1_score(y_test, y_test_pred_SC_tune_LR)\n",
    "conf_SC_tune_LR = confusion_matrix(y_test, y_test_pred_SC_tune_LR)\n",
    "\n",
    "print(\"Tain set Accuracy: \", train_acc_SC_tune_LR)\n",
    "print(\"Test set Accuracy: \", test_acc_SC_tune_LR)\n",
    "print(\"cv:  %s\\n\"% scores_SC_tune_LR.mean())\n",
    "print(\"************************************************\")\n",
    "print(\"precision_score: \", precision_score_SC_tune_LR)\n",
    "print(\"recall_score: \", recall_score_SC_tune_LR)\n",
    "print(\"f1_score: \", f1_score_SC_tune_LR)\n",
    "print(\"************************************************\")\n",
    "print(\"\\nReport:\\n%s\\n\"%classification_report(y_test, y_test_pred_SC_tune_LR))"
   ]
  },
  {
   "cell_type": "markdown",
   "metadata": {
    "papermill": {
     "duration": 0.080799,
     "end_time": "2021-12-18T11:10:27.104143",
     "exception": false,
     "start_time": "2021-12-18T11:10:27.023344",
     "status": "completed"
    },
    "tags": []
   },
   "source": [
    "# Compare Models"
   ]
  },
  {
   "cell_type": "code",
   "execution_count": 40,
   "metadata": {
    "execution": {
     "iopub.execute_input": "2021-12-18T11:10:27.272529Z",
     "iopub.status.busy": "2021-12-18T11:10:27.268168Z",
     "iopub.status.idle": "2021-12-18T11:11:17.476811Z",
     "shell.execute_reply": "2021-12-18T11:11:17.477361Z",
     "shell.execute_reply.started": "2021-12-18T10:54:40.540882Z"
    },
    "papermill": {
     "duration": 50.293298,
     "end_time": "2021-12-18T11:11:17.477541",
     "exception": false,
     "start_time": "2021-12-18T11:10:27.184243",
     "status": "completed"
    },
    "tags": []
   },
   "outputs": [
    {
     "name": "stdout",
     "output_type": "stream",
     "text": [
      "DT: 0.870649 (0.047552)\n",
      "RF: 0.873846 (0.039745)\n",
      "MLP: 0.872188 (0.045361)\n",
      "SVM: 0.869111 (0.043833)\n",
      "ET: 0.867476 (0.050193)\n",
      "LR: 0.837981 (0.045939)\n",
      "KNN: 0.847332 (0.046726)\n",
      "GB: 0.870625 (0.049088)\n",
      "SC: 0.870625 (0.041546)\n"
     ]
    }
   ],
   "source": [
    "models = []\n",
    "models.append(('DT', DT))\n",
    "models.append(('RF', RF))\n",
    "models.append(('MLP', MLP))\n",
    "models.append(('SVM', SVM))\n",
    "models.append(('ET', ET))\n",
    "models.append(('LR', LR))\n",
    "models.append(('KNN', KNN))\n",
    "models.append(('GB', GB))\n",
    "models.append(('SC', SC_tune_LR))\n",
    "\n",
    "results = []\n",
    "names = []\n",
    "for name, model in models:\n",
    "    kfold = KFold(n_splits=10, random_state=100, shuffle=True)\n",
    "    cv_results = cross_val_score(model, x_train_new, y_train, cv=kfold, scoring='accuracy')\n",
    "    results.append(cv_results)\n",
    "    names.append(name)\n",
    "    score = \"%s: %f (%f)\" % (name, cv_results.mean(), cv_results.std())\n",
    "    print(score)"
   ]
  },
  {
   "cell_type": "code",
   "execution_count": 41,
   "metadata": {
    "execution": {
     "iopub.execute_input": "2021-12-18T11:11:17.641580Z",
     "iopub.status.busy": "2021-12-18T11:11:17.640654Z",
     "iopub.status.idle": "2021-12-18T11:11:17.920389Z",
     "shell.execute_reply": "2021-12-18T11:11:17.920993Z",
     "shell.execute_reply.started": "2021-12-18T10:55:30.201440Z"
    },
    "papermill": {
     "duration": 0.363993,
     "end_time": "2021-12-18T11:11:17.921165",
     "exception": false,
     "start_time": "2021-12-18T11:11:17.557172",
     "status": "completed"
    },
    "tags": []
   },
   "outputs": [
    {
     "data": {
      "image/png": "[encoded data removed]",
      "text/plain": [
       "<Figure size 720x576 with 1 Axes>"
      ]
     },
     "metadata": {
      "needs_background": "light"
     },
     "output_type": "display_data"
    }
   ],
   "source": [
    "fig = plt.figure(figsize=(10,8))\n",
    "fig.suptitle('Algorithm Comparison')\n",
    "ax = fig.add_subplot(111)\n",
    "plt.boxplot(results)\n",
    "ax.set_xticklabels(names)\n",
    "plt.show()"
   ]
  },
  {
   "cell_type": "code",
   "execution_count": 42,
   "metadata": {
    "execution": {
     "iopub.execute_input": "2021-12-18T11:11:18.088668Z",
     "iopub.status.busy": "2021-12-18T11:11:18.087683Z",
     "iopub.status.idle": "2021-12-18T11:11:18.096273Z",
     "shell.execute_reply": "2021-12-18T11:11:18.096822Z",
     "shell.execute_reply.started": "2021-12-18T10:55:30.490136Z"
    },
    "papermill": {
     "duration": 0.094343,
     "end_time": "2021-12-18T11:11:18.097014",
     "exception": false,
     "start_time": "2021-12-18T11:11:18.002671",
     "status": "completed"
    },
    "tags": []
   },
   "outputs": [],
   "source": [
    "compare_models = [('Decision Tree', train_acc_DT, test_acc_DT, scores_DT.mean(), precision_score_DT, recall_score_DT, f1_score_DT, ''),\n",
    "          ('Random Forest', train_acc_RF, test_acc_RF, scores_RF.mean(), precision_score_RF, recall_score_RF, f1_score_RF, ''),\n",
    "          ('Neural Network', train_acc_MLP, test_acc_MLP, scores_MLP.mean(), precision_score_MLP, recall_score_MLP, f1_score_MLP,''),\n",
    "          ('SVC', train_acc_SVM, test_acc_SVM, scores_SVM.mean(), precision_score_SVM, recall_score_SVM, f1_score_SVM,''),\n",
    "          ('Extra Tree', train_acc_ET, test_acc_ET, scores_ET.mean(), precision_score_ET, recall_score_ET, f1_score_ET,''),\n",
    "          ('GradientBoosting', train_acc_GB, test_acc_GB, scores_GB.mean(), precision_score_GB, recall_score_GB, f1_score_GB,''),\n",
    "          ('Logistic Regression', train_acc_LR, test_acc_LR, scores_LR.mean(), precision_score_LR, recall_score_LR, f1_score_LR,''),\n",
    "          ('KNN', train_acc_KNN, test_acc_KNN, scores_KNN.mean(), precision_score_KNN, recall_score_KNN, f1_score_KNN,''),\n",
    "          ('Stacking', train_acc_SC_tune_LR, test_acc_SC_tune_LR, scores_SC_tune_LR.mean(), precision_score_SC_tune_LR, recall_score_SC_tune_LR, f1_score_SC_tune_LR,'The Best Model'),\n",
    "         ]"
   ]
  },
  {
   "cell_type": "code",
   "execution_count": 43,
   "metadata": {
    "execution": {
     "iopub.execute_input": "2021-12-18T11:11:18.263781Z",
     "iopub.status.busy": "2021-12-18T11:11:18.262819Z",
     "iopub.status.idle": "2021-12-18T11:11:18.350712Z",
     "shell.execute_reply": "2021-12-18T11:11:18.351200Z",
     "shell.execute_reply.started": "2021-12-18T10:55:30.501465Z"
    },
    "papermill": {
     "duration": 0.173013,
     "end_time": "2021-12-18T11:11:18.351376",
     "exception": false,
     "start_time": "2021-12-18T11:11:18.178363",
     "status": "completed"
    },
    "tags": []
   },
   "outputs": [
    {
     "data": {
      "text/html": [
       "<style type=\"text/css\">\n",
       "#T_71035_row0_col1 {\n",
       "  background-color: #4fb264;\n",
       "  color: #f1f1f1;\n",
       "}\n",
       "#T_71035_row0_col2 {\n",
       "  background-color: #a9db8c;\n",
       "  color: #000000;\n",
       "}\n",
       "#T_71035_row0_col3, #T_71035_row1_col1, #T_71035_row1_col2, #T_71035_row1_col4, #T_71035_row1_col6, #T_71035_row4_col5, #T_71035_row5_col3, #T_71035_row8_col2, #T_71035_row8_col4, #T_71035_row8_col6 {\n",
       "  background-color: #004529;\n",
       "  color: #f1f1f1;\n",
       "}\n",
       "#T_71035_row0_col4, #T_71035_row2_col4 {\n",
       "  background-color: #68be71;\n",
       "  color: #000000;\n",
       "}\n",
       "#T_71035_row0_col5, #T_71035_row7_col5 {\n",
       "  background-color: #d2eda0;\n",
       "  color: #000000;\n",
       "}\n",
       "#T_71035_row0_col6 {\n",
       "  background-color: #acdd8e;\n",
       "  color: #000000;\n",
       "}\n",
       "#T_71035_row1_col3, #T_71035_row2_col3 {\n",
       "  background-color: #4cb063;\n",
       "  color: #f1f1f1;\n",
       "}\n",
       "#T_71035_row1_col5, #T_71035_row2_col5, #T_71035_row8_col5 {\n",
       "  background-color: #10743c;\n",
       "  color: #f1f1f1;\n",
       "}\n",
       "#T_71035_row2_col1 {\n",
       "  background-color: #8ed082;\n",
       "  color: #000000;\n",
       "}\n",
       "#T_71035_row2_col2, #T_71035_row3_col2 {\n",
       "  background-color: #1e8041;\n",
       "  color: #f1f1f1;\n",
       "}\n",
       "#T_71035_row2_col6 {\n",
       "  background-color: #11753d;\n",
       "  color: #f1f1f1;\n",
       "}\n",
       "#T_71035_row3_col1 {\n",
       "  background-color: #61bb6d;\n",
       "  color: #f1f1f1;\n",
       "}\n",
       "#T_71035_row3_col3 {\n",
       "  background-color: #278946;\n",
       "  color: #f1f1f1;\n",
       "}\n",
       "#T_71035_row3_col4 {\n",
       "  background-color: #e6f5ac;\n",
       "  color: #000000;\n",
       "}\n",
       "#T_71035_row3_col5 {\n",
       "  background-color: #75c578;\n",
       "  color: #000000;\n",
       "}\n",
       "#T_71035_row3_col6 {\n",
       "  background-color: #95d385;\n",
       "  color: #000000;\n",
       "}\n",
       "#T_71035_row4_col1 {\n",
       "  background-color: #ccea9d;\n",
       "  color: #000000;\n",
       "}\n",
       "#T_71035_row4_col2 {\n",
       "  background-color: #45ad5f;\n",
       "  color: #f1f1f1;\n",
       "}\n",
       "#T_71035_row4_col3 {\n",
       "  background-color: #016937;\n",
       "  color: #f1f1f1;\n",
       "}\n",
       "#T_71035_row4_col4, #T_71035_row6_col1, #T_71035_row6_col2, #T_71035_row6_col5, #T_71035_row6_col6, #T_71035_row7_col3 {\n",
       "  background-color: #ffffe5;\n",
       "  color: #000000;\n",
       "}\n",
       "#T_71035_row4_col6 {\n",
       "  background-color: #288a47;\n",
       "  color: #f1f1f1;\n",
       "}\n",
       "#T_71035_row5_col1, #T_71035_row8_col1 {\n",
       "  background-color: #47ae60;\n",
       "  color: #f1f1f1;\n",
       "}\n",
       "#T_71035_row5_col2 {\n",
       "  background-color: #88cd7f;\n",
       "  color: #000000;\n",
       "}\n",
       "#T_71035_row5_col4 {\n",
       "  background-color: #eaf7af;\n",
       "  color: #000000;\n",
       "}\n",
       "#T_71035_row5_col5 {\n",
       "  background-color: #3fa85b;\n",
       "  color: #f1f1f1;\n",
       "}\n",
       "#T_71035_row5_col6 {\n",
       "  background-color: #6bc072;\n",
       "  color: #000000;\n",
       "}\n",
       "#T_71035_row6_col3 {\n",
       "  background-color: #fbfdcf;\n",
       "  color: #000000;\n",
       "}\n",
       "#T_71035_row6_col4 {\n",
       "  background-color: #f4fbb7;\n",
       "  color: #000000;\n",
       "}\n",
       "#T_71035_row7_col1 {\n",
       "  background-color: #bee596;\n",
       "  color: #000000;\n",
       "}\n",
       "#T_71035_row7_col2 {\n",
       "  background-color: #c5e89a;\n",
       "  color: #000000;\n",
       "}\n",
       "#T_71035_row7_col4 {\n",
       "  background-color: #abdc8d;\n",
       "  color: #000000;\n",
       "}\n",
       "#T_71035_row7_col6 {\n",
       "  background-color: #c1e698;\n",
       "  color: #000000;\n",
       "}\n",
       "#T_71035_row8_col3 {\n",
       "  background-color: #15793e;\n",
       "  color: #f1f1f1;\n",
       "}\n",
       "</style>\n",
       "<table id=\"T_71035_\">\n",
       "  <thead>\n",
       "    <tr>\n",
       "      <th class=\"blank level0\" >&nbsp;</th>\n",
       "      <th class=\"col_heading level0 col0\" >Model</th>\n",
       "      <th class=\"col_heading level0 col1\" >Train_accuracy</th>\n",
       "      <th class=\"col_heading level0 col2\" >Test_accuracy</th>\n",
       "      <th class=\"col_heading level0 col3\" >CV_score</th>\n",
       "      <th class=\"col_heading level0 col4\" >precision_score</th>\n",
       "      <th class=\"col_heading level0 col5\" >recall_score</th>\n",
       "      <th class=\"col_heading level0 col6\" >f1_score</th>\n",
       "      <th class=\"col_heading level0 col7\" >Description</th>\n",
       "    </tr>\n",
       "  </thead>\n",
       "  <tbody>\n",
       "    <tr>\n",
       "      <th id=\"T_71035_level0_row0\" class=\"row_heading level0 row0\" >0</th>\n",
       "      <td id=\"T_71035_row0_col0\" class=\"data row0 col0\" >Decision Tree</td>\n",
       "      <td id=\"T_71035_row0_col1\" class=\"data row0 col1\" >0.895639</td>\n",
       "      <td id=\"T_71035_row0_col2\" class=\"data row0 col2\" >0.829710</td>\n",
       "      <td id=\"T_71035_row0_col3\" class=\"data row0 col3\" >0.873846</td>\n",
       "      <td id=\"T_71035_row0_col4\" class=\"data row0 col4\" >0.858108</td>\n",
       "      <td id=\"T_71035_row0_col5\" class=\"data row0 col5\" >0.830065</td>\n",
       "      <td id=\"T_71035_row0_col6\" class=\"data row0 col6\" >0.843854</td>\n",
       "      <td id=\"T_71035_row0_col7\" class=\"data row0 col7\" ></td>\n",
       "    </tr>\n",
       "    <tr>\n",
       "      <th id=\"T_71035_level0_row1\" class=\"row_heading level0 row1\" >1</th>\n",
       "      <td id=\"T_71035_row1_col0\" class=\"data row1 col0\" >Random Forest</td>\n",
       "      <td id=\"T_71035_row1_col1\" class=\"data row1 col1\" >0.926791</td>\n",
       "      <td id=\"T_71035_row1_col2\" class=\"data row1 col2\" >0.858696</td>\n",
       "      <td id=\"T_71035_row1_col3\" class=\"data row1 col3\" >0.864567</td>\n",
       "      <td id=\"T_71035_row1_col4\" class=\"data row1 col4\" >0.875000</td>\n",
       "      <td id=\"T_71035_row1_col5\" class=\"data row1 col5\" >0.869281</td>\n",
       "      <td id=\"T_71035_row1_col6\" class=\"data row1 col6\" >0.872131</td>\n",
       "      <td id=\"T_71035_row1_col7\" class=\"data row1 col7\" ></td>\n",
       "    </tr>\n",
       "    <tr>\n",
       "      <th id=\"T_71035_level0_row2\" class=\"row_heading level0 row2\" >2</th>\n",
       "      <td id=\"T_71035_row2_col0\" class=\"data row2 col0\" >Neural Network</td>\n",
       "      <td id=\"T_71035_row2_col1\" class=\"data row2 col1\" >0.884735</td>\n",
       "      <td id=\"T_71035_row2_col2\" class=\"data row2 col2\" >0.847826</td>\n",
       "      <td id=\"T_71035_row2_col3\" class=\"data row2 col3\" >0.864543</td>\n",
       "      <td id=\"T_71035_row2_col4\" class=\"data row2 col4\" >0.858065</td>\n",
       "      <td id=\"T_71035_row2_col5\" class=\"data row2 col5\" >0.869281</td>\n",
       "      <td id=\"T_71035_row2_col6\" class=\"data row2 col6\" >0.863636</td>\n",
       "      <td id=\"T_71035_row2_col7\" class=\"data row2 col7\" ></td>\n",
       "    </tr>\n",
       "    <tr>\n",
       "      <th id=\"T_71035_level0_row3\" class=\"row_heading level0 row3\" >3</th>\n",
       "      <td id=\"T_71035_row3_col0\" class=\"data row3 col0\" >SVC</td>\n",
       "      <td id=\"T_71035_row3_col1\" class=\"data row3 col1\" >0.892523</td>\n",
       "      <td id=\"T_71035_row3_col2\" class=\"data row3 col2\" >0.847826</td>\n",
       "      <td id=\"T_71035_row3_col3\" class=\"data row3 col3\" >0.867668</td>\n",
       "      <td id=\"T_71035_row3_col4\" class=\"data row3 col4\" >0.845775</td>\n",
       "      <td id=\"T_71035_row3_col5\" class=\"data row3 col5\" >0.846804</td>\n",
       "      <td id=\"T_71035_row3_col6\" class=\"data row3 col6\" >0.846244</td>\n",
       "      <td id=\"T_71035_row3_col7\" class=\"data row3 col7\" ></td>\n",
       "    </tr>\n",
       "    <tr>\n",
       "      <th id=\"T_71035_level0_row4\" class=\"row_heading level0 row4\" >4</th>\n",
       "      <td id=\"T_71035_row4_col0\" class=\"data row4 col0\" >Extra Tree</td>\n",
       "      <td id=\"T_71035_row4_col1\" class=\"data row4 col1\" >0.872274</td>\n",
       "      <td id=\"T_71035_row4_col2\" class=\"data row4 col2\" >0.840580</td>\n",
       "      <td id=\"T_71035_row4_col3\" class=\"data row4 col3\" >0.870793</td>\n",
       "      <td id=\"T_71035_row4_col4\" class=\"data row4 col4\" >0.838509</td>\n",
       "      <td id=\"T_71035_row4_col5\" class=\"data row4 col5\" >0.882353</td>\n",
       "      <td id=\"T_71035_row4_col6\" class=\"data row4 col6\" >0.859873</td>\n",
       "      <td id=\"T_71035_row4_col7\" class=\"data row4 col7\" ></td>\n",
       "    </tr>\n",
       "    <tr>\n",
       "      <th id=\"T_71035_level0_row5\" class=\"row_heading level0 row5\" >5</th>\n",
       "      <td id=\"T_71035_row5_col0\" class=\"data row5 col0\" >GradientBoosting</td>\n",
       "      <td id=\"T_71035_row5_col1\" class=\"data row5 col1\" >0.897196</td>\n",
       "      <td id=\"T_71035_row5_col2\" class=\"data row5 col2\" >0.833333</td>\n",
       "      <td id=\"T_71035_row5_col3\" class=\"data row5 col3\" >0.873870</td>\n",
       "      <td id=\"T_71035_row5_col4\" class=\"data row5 col4\" >0.845161</td>\n",
       "      <td id=\"T_71035_row5_col5\" class=\"data row5 col5\" >0.856209</td>\n",
       "      <td id=\"T_71035_row5_col6\" class=\"data row5 col6\" >0.850649</td>\n",
       "      <td id=\"T_71035_row5_col7\" class=\"data row5 col7\" ></td>\n",
       "    </tr>\n",
       "    <tr>\n",
       "      <th id=\"T_71035_level0_row6\" class=\"row_heading level0 row6\" >6</th>\n",
       "      <td id=\"T_71035_row6_col0\" class=\"data row6 col0\" >Logistic Regression</td>\n",
       "      <td id=\"T_71035_row6_col1\" class=\"data row6 col1\" >0.850467</td>\n",
       "      <td id=\"T_71035_row6_col2\" class=\"data row6 col2\" >0.811594</td>\n",
       "      <td id=\"T_71035_row6_col3\" class=\"data row6 col3\" >0.852043</td>\n",
       "      <td id=\"T_71035_row6_col4\" class=\"data row6 col4\" >0.843537</td>\n",
       "      <td id=\"T_71035_row6_col5\" class=\"data row6 col5\" >0.810458</td>\n",
       "      <td id=\"T_71035_row6_col6\" class=\"data row6 col6\" >0.826667</td>\n",
       "      <td id=\"T_71035_row6_col7\" class=\"data row6 col7\" ></td>\n",
       "    </tr>\n",
       "    <tr>\n",
       "      <th id=\"T_71035_level0_row7\" class=\"row_heading level0 row7\" >7</th>\n",
       "      <td id=\"T_71035_row7_col0\" class=\"data row7 col0\" >KNN</td>\n",
       "      <td id=\"T_71035_row7_col1\" class=\"data row7 col1\" >0.875389</td>\n",
       "      <td id=\"T_71035_row7_col2\" class=\"data row7 col2\" >0.826087</td>\n",
       "      <td id=\"T_71035_row7_col3\" class=\"data row7 col3\" >0.850553</td>\n",
       "      <td id=\"T_71035_row7_col4\" class=\"data row7 col4\" >0.852349</td>\n",
       "      <td id=\"T_71035_row7_col5\" class=\"data row7 col5\" >0.830065</td>\n",
       "      <td id=\"T_71035_row7_col6\" class=\"data row7 col6\" >0.841060</td>\n",
       "      <td id=\"T_71035_row7_col7\" class=\"data row7 col7\" ></td>\n",
       "    </tr>\n",
       "    <tr>\n",
       "      <th id=\"T_71035_level0_row8\" class=\"row_heading level0 row8\" >8</th>\n",
       "      <td id=\"T_71035_row8_col0\" class=\"data row8 col0\" >Stacking</td>\n",
       "      <td id=\"T_71035_row8_col1\" class=\"data row8 col1\" >0.897196</td>\n",
       "      <td id=\"T_71035_row8_col2\" class=\"data row8 col2\" >0.858696</td>\n",
       "      <td id=\"T_71035_row8_col3\" class=\"data row8 col3\" >0.869207</td>\n",
       "      <td id=\"T_71035_row8_col4\" class=\"data row8 col4\" >0.875000</td>\n",
       "      <td id=\"T_71035_row8_col5\" class=\"data row8 col5\" >0.869281</td>\n",
       "      <td id=\"T_71035_row8_col6\" class=\"data row8 col6\" >0.872131</td>\n",
       "      <td id=\"T_71035_row8_col7\" class=\"data row8 col7\" >The Best Model</td>\n",
       "    </tr>\n",
       "  </tbody>\n",
       "</table>\n"
      ],
      "text/plain": [
       "<pandas.io.formats.style.Styler at 0x7fdbddca3f90>"
      ]
     },
     "execution_count": 43,
     "metadata": {},
     "output_type": "execute_result"
    }
   ],
   "source": [
    "predict = pd.DataFrame(data = compare_models, columns=['Model', 'Train_accuracy', 'Test_accuracy', 'CV_score','precision_score', 'recall_score', 'f1_score', 'Description'])\n",
    "predict.style.background_gradient(cmap='YlGn')"
   ]
  },
  {
   "cell_type": "markdown",
   "metadata": {
    "papermill": {
     "duration": 0.082469,
     "end_time": "2021-12-18T11:11:18.515203",
     "exception": false,
     "start_time": "2021-12-18T11:11:18.432734",
     "status": "completed"
    },
    "tags": []
   },
   "source": [
    "# The best model --> Stacking\n",
    "> The criterion for selecting the final model:\n",
    "> Checking the difference between train and test accuracy (Checking the model in terms of overfitting) "
   ]
  },
  {
   "cell_type": "code",
   "execution_count": 44,
   "metadata": {
    "execution": {
     "iopub.execute_input": "2021-12-18T11:11:18.682531Z",
     "iopub.status.busy": "2021-12-18T11:11:18.681782Z",
     "iopub.status.idle": "2021-12-18T11:11:18.687664Z",
     "shell.execute_reply": "2021-12-18T11:11:18.686986Z",
     "shell.execute_reply.started": "2021-12-18T10:55:30.604328Z"
    },
    "papermill": {
     "duration": 0.090508,
     "end_time": "2021-12-18T11:11:18.687807",
     "exception": false,
     "start_time": "2021-12-18T11:11:18.597299",
     "status": "completed"
    },
    "tags": []
   },
   "outputs": [],
   "source": [
    "conf_matrix = confusion_matrix(y_test, y_test_pred_SC_tune_LR)"
   ]
  },
  {
   "cell_type": "code",
   "execution_count": 45,
   "metadata": {
    "execution": {
     "iopub.execute_input": "2021-12-18T11:11:18.873684Z",
     "iopub.status.busy": "2021-12-18T11:11:18.872998Z",
     "iopub.status.idle": "2021-12-18T11:11:19.112846Z",
     "shell.execute_reply": "2021-12-18T11:11:19.113321Z",
     "shell.execute_reply.started": "2021-12-18T10:55:30.616670Z"
    },
    "papermill": {
     "duration": 0.34223,
     "end_time": "2021-12-18T11:11:19.113494",
     "exception": false,
     "start_time": "2021-12-18T11:11:18.771264",
     "status": "completed"
    },
    "tags": []
   },
   "outputs": [
    {
     "data": {
      "text/plain": [
       "<AxesSubplot:>"
      ]
     },
     "execution_count": 45,
     "metadata": {},
     "output_type": "execute_result"
    },
    {
     "data": {
      "image/png": "[encoded data removed]",
      "text/plain": [
       "<Figure size 576x432 with 2 Axes>"
      ]
     },
     "metadata": {
      "needs_background": "light"
     },
     "output_type": "display_data"
    }
   ],
   "source": [
    "plt.figure(figsize=(8,6))\n",
    "group_names = ['True Negatives', 'False Positives','False Negatives','True Positives']\n",
    "group_counts = ['{0:0.0f}'.format(value) for value in conf_matrix.flatten()]\n",
    "group_percentages = ['{0:.2%}'.format(value) for value in conf_matrix.flatten()/np.sum(conf_matrix)]\n",
    "labels = [f'{v1}\\n{v2}\\n{v3}' for v1, v2, v3 in\n",
    "          zip(group_names,group_counts,group_percentages)]\n",
    "labels = np.asarray(labels).reshape(2,2)\n",
    "sns.heatmap(conf_matrix, annot=labels, fmt= '', cmap=\"rocket_r\")"
   ]
  },
  {
   "cell_type": "markdown",
   "metadata": {
    "papermill": {
     "duration": 0.084062,
     "end_time": "2021-12-18T11:11:19.283091",
     "exception": false,
     "start_time": "2021-12-18T11:11:19.199029",
     "status": "completed"
    },
    "tags": []
   },
   "source": [
    "### **`confusion_matrix for cross_val_predict`**"
   ]
  },
  {
   "cell_type": "code",
   "execution_count": 46,
   "metadata": {
    "execution": {
     "iopub.execute_input": "2021-12-18T11:11:19.466812Z",
     "iopub.status.busy": "2021-12-18T11:11:19.457742Z",
     "iopub.status.idle": "2021-12-18T11:11:49.385989Z",
     "shell.execute_reply": "2021-12-18T11:11:49.385397Z",
     "shell.execute_reply.started": "2021-12-18T10:55:30.863626Z"
    },
    "papermill": {
     "duration": 30.018836,
     "end_time": "2021-12-18T11:11:49.386159",
     "exception": false,
     "start_time": "2021-12-18T11:11:19.367323",
     "status": "completed"
    },
    "tags": []
   },
   "outputs": [],
   "source": [
    "y_pred_cross_val = cross_val_predict(SC_tune_LR, x_test_new, y_test, cv=10)\n",
    "conf_matrix_cross_val = confusion_matrix(y_test, y_pred_cross_val)"
   ]
  },
  {
   "cell_type": "code",
   "execution_count": 47,
   "metadata": {
    "execution": {
     "iopub.execute_input": "2021-12-18T11:11:49.563156Z",
     "iopub.status.busy": "2021-12-18T11:11:49.562515Z",
     "iopub.status.idle": "2021-12-18T11:11:49.762944Z",
     "shell.execute_reply": "2021-12-18T11:11:49.762366Z",
     "shell.execute_reply.started": "2021-12-18T10:56:00.902572Z"
    },
    "papermill": {
     "duration": 0.293007,
     "end_time": "2021-12-18T11:11:49.763094",
     "exception": false,
     "start_time": "2021-12-18T11:11:49.470087",
     "status": "completed"
    },
    "tags": []
   },
   "outputs": [
    {
     "data": {
      "text/plain": [
       "<AxesSubplot:>"
      ]
     },
     "execution_count": 47,
     "metadata": {},
     "output_type": "execute_result"
    },
    {
     "data": {
      "image/png": "[encoded data removed]",
      "text/plain": [
       "<Figure size 576x432 with 2 Axes>"
      ]
     },
     "metadata": {
      "needs_background": "light"
     },
     "output_type": "display_data"
    }
   ],
   "source": [
    "plt.figure(figsize=(8,6))\n",
    "group_names = ['True Negatives', 'False Positives','False Negatives','True Positives']\n",
    "group_counts = ['{0:0.0f}'.format(value) for value in conf_matrix_cross_val.flatten()]\n",
    "group_percentages = ['{0:.2%}'.format(value) for value in conf_matrix_cross_val.flatten()/np.sum(conf_matrix_cross_val)]\n",
    "labels = [f'{v1}\\n{v2}\\n{v3}' for v1, v2, v3 in\n",
    "          zip(group_names,group_counts,group_percentages)]\n",
    "labels = np.asarray(labels).reshape(2,2)\n",
    "sns.heatmap(conf_matrix_cross_val, annot=labels, fmt= '', cmap=\"rocket_r\")"
   ]
  }
 ],
 "metadata": {
  "kernelspec": {
   "display_name": "Python 3",
   "language": "python",
   "name": "python3"
  },
  "language_info": {
   "codemirror_mode": {
    "name": "ipython",
    "version": 3
   },
   "file_extension": ".py",
   "mimetype": "text/x-python",
   "name": "python",
   "nbconvert_exporter": "python",
   "pygments_lexer": "ipython3",
   "version": "3.7.3"
  },
  "papermill": {
   "default_parameters": {},
   "duration": 176.068159,
   "end_time": "2021-12-18T11:11:50.660348",
   "environment_variables": {},
   "exception": null,
   "input_path": "__notebook__.ipynb",
   "output_path": "__notebook__.ipynb",
   "parameters": {},
   "start_time": "2021-12-18T11:08:54.592189",
   "version": "2.3.3"
  }
 },
 "nbformat": 4,
 "nbformat_minor": 5
}
